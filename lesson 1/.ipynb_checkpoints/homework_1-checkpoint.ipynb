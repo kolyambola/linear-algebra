{
 "cells": [
  {
   "cell_type": "markdown",
   "id": "33b94f06",
   "metadata": {},
   "source": [
    "## Линейное пространство. Основные понятия. Часть 1"
   ]
  },
  {
   "cell_type": "markdown",
   "id": "97583f69",
   "metadata": {},
   "source": [
    "__1.__ Исследуйте на линейную зависимость:\n",
    "\n",
    "$$f_{1}(x)=e^{x}, f_{2}(x)=1, f_{3}(x)=x+1, f_{4}(x)=x-e^{x}.$$"
   ]
  },
  {
   "cell_type": "markdown",
   "id": "fede1e45",
   "metadata": {},
   "source": [
    "__Решение__"
   ]
  },
  {
   "cell_type": "markdown",
   "id": "80c7c632",
   "metadata": {},
   "source": [
    "$f_{4}(x)=f_{3}(x) - f_{2}(x) - f_{1}(x).$ То есть вектор $f_{4}(x)$ — линейная комбинация векторов $f_{1}(x), f_{2}(x), f_{3}(x).$ Из этого можно сделать вывод, что векторы $f_{1}(x), f_{2}(x), f_{3}(x), f_{4}(x)$ линейно зависимы."
   ]
  },
  {
   "cell_type": "markdown",
   "id": "e78252be",
   "metadata": {},
   "source": [
    "__2.__ Исследуйте на линейную зависимость:\n",
    "$$f_{1}(x)=2, f_{2}(x)=x, f_{3}(x)=x^{2}, f_{4}(x)=(x+1)^{2}$$"
   ]
  },
  {
   "cell_type": "markdown",
   "id": "517f4cb7",
   "metadata": {},
   "source": [
    "__Решение__"
   ]
  },
  {
   "cell_type": "markdown",
   "id": "aeeaac81",
   "metadata": {},
   "source": [
    "Раскроем скобки в векторе $f_{4}(x)$. $f_{4}(x)=(x+1)^{2}=x^{2}+2x+1$. $f_{4}(x)=f_{3}(x) + 2f_{2}(x) + 0.5f_{1}(x).$ То есть вектор $f_{4}(x)$ — линейная комбинация векторов $f_{1}(x), f_{2}(x), f_{3}(x).$ Из этого можно сделать вывод, что векторы $f_{1}(x), f_{2}(x), f_{3}(x), f_{4}(x)$ линейно зависимы."
   ]
  },
  {
   "cell_type": "markdown",
   "id": "1a8b00d0",
   "metadata": {},
   "source": [
    "__3.__ Найдите координаты вектора $x = (2, 3, 5)\\in \\mathbb{R}^{3}$ в базисе $b_{1}=(0, 0, 10)$, $b_{2}=(2, 0, 0)$, $b_{3}=(0, 1, 0)$."
   ]
  },
  {
   "cell_type": "markdown",
   "id": "6810b393",
   "metadata": {},
   "source": [
    "__Решение__"
   ]
  },
  {
   "cell_type": "markdown",
   "id": "fbbe76b8",
   "metadata": {},
   "source": [
    "Стандартный базис линейного пространства $\\mathbb{R}^{3}$ образует векторы \n",
    "$b_{1}=(0, 0, 10)$, $b_{2}=(2, 0, 0)$, $b_{3}=(0, 1, 0)$.\n",
    "Тогда:\n",
    "\n",
    "$$x=(2, 3, 5)=(2,0,0)+(0, 3, 0)+(0, 0, 5)=0.5\\cdot(0, 0, 10)+(2, 0, 0)+3\\cdot(0, 1, 0)=0.5b_{1}+b_{2}+3b_{3},$$\n",
    "\n",
    "\n",
    "то есть координаты вектора $x$ в стандартном базисе — $0.5$, $1$, $3$."
   ]
  },
  {
   "cell_type": "markdown",
   "id": "2b3b42dd",
   "metadata": {},
   "source": [
    "__4.__ Найдите координаты вектора $3x^{2}-2x+2\\in\\mathbb{R}^{3}[x]$:\n",
    "\n",
    "а) в базисе $1$, $x$, $x^{2}$;\n",
    "\n",
    "б) в базисе $x^{2}$, $x-1$, $1$."
   ]
  },
  {
   "cell_type": "markdown",
   "id": "4f24ea01",
   "metadata": {},
   "source": [
    "__Решение__"
   ]
  },
  {
   "cell_type": "markdown",
   "id": "964e1426",
   "metadata": {},
   "source": [
    "а) координаты вектора: $(2, -2, 3).$"
   ]
  },
  {
   "cell_type": "markdown",
   "id": "6f7adf89",
   "metadata": {},
   "source": [
    "б) координаты вектора: $(3, -2, 0).$"
   ]
  },
  {
   "cell_type": "markdown",
   "id": "bf256f93",
   "metadata": {},
   "source": [
    "__5.__ Установите, считается ли линейным подпространством:\n",
    "\n",
    "а) совокупность всех векторов трёхмерного пространства, у которых по крайней мере одна из первых двух координат равна нулю;\n",
    "    \n",
    "б) все векторы, считающиеся линейными комбинациями данных векторов $\\{u_{1}, u_{2} \\ldots, u_{n}\\}$."
   ]
  },
  {
   "cell_type": "markdown",
   "id": "430b9c2f",
   "metadata": {},
   "source": [
    "__Решение__"
   ]
  },
  {
   "cell_type": "markdown",
   "id": "8ce53497",
   "metadata": {},
   "source": [
    "а) Существует 3 варианта: 1) первая координата равна нулю $(0, a, b);$ 2) вторая координата равна нулю $(c, 0, d);$ 3) первая и вторая координаты равны нулю $(0, 0, e).$"
   ]
  },
  {
   "cell_type": "markdown",
   "id": "526842d5",
   "metadata": {},
   "source": [
    "Проведём проверку для 1 и 2 вариантов:\n",
    "\n",
    "$(0, a, b) + (c, 0, d) = (c, a, b + d).$"
   ]
  },
  {
   "cell_type": "markdown",
   "id": "287d37ad",
   "metadata": {},
   "source": [
    "Полученные векторы не принадлежат указанному множеству всех векторов. Следовательно, данное множество не является линейным подпространством линейного пространства."
   ]
  },
  {
   "cell_type": "markdown",
   "id": "d913c7a6",
   "metadata": {},
   "source": [
    "б) $a = \\lambda_{1}u_{1}+\\lambda_{2}u_{2} \\ldots, \\lambda_{n}u_{n}$\n",
    "\n",
    "$b = \\mu_{1}u_{1}+\\mu_{2}u_{2} \\ldots, \\mu_{n}u_{n}$"
   ]
  },
  {
   "cell_type": "markdown",
   "id": "2bcd55a1",
   "metadata": {},
   "source": [
    "1) $(a+b) = (\\lambda_{1}+\\mu_{1})u_{1}+(\\lambda_{2}+\\mu_{2})u_{2}+\\ldots+(\\lambda_{n}+\\mu_{n})u_{n}$\n",
    "\n",
    "2) $\\alpha a = \\alpha \\lambda_{1}u_{1} + \\alpha \\lambda_{2}u_{2} + \\ldots + \\alpha \\lambda_{n}u_{n}$"
   ]
  },
  {
   "cell_type": "markdown",
   "id": "1508add9",
   "metadata": {},
   "source": [
    "Результаты данных операций являются линейными комбинациями заданных векторов $\\{u_{1}, u_{2} \\ldots, u_{n}\\}$. Значит, все векторы, которые являются линейными комбинациями данных векторов, являются линейным подпространством."
   ]
  },
  {
   "cell_type": "markdown",
   "id": "283c30bd",
   "metadata": {},
   "source": [
    "## Линейное пространство. Основные понятия. Часть 2"
   ]
  },
  {
   "cell_type": "markdown",
   "id": "630c3d5c",
   "metadata": {},
   "source": [
    "__1.__ Найдите скалярное произведение векторов $x, y \\in \\mathbb{R}$:<br>\n",
    "а) $x=(0,-3, 6),~y=(-4, 7, 9);$<br>\n",
    "б) $x=(7, -4, 0, 1),~y=(-3, 1, 11, 2).$"
   ]
  },
  {
   "cell_type": "markdown",
   "id": "76cb4ce5",
   "metadata": {},
   "source": [
    "__Решение__"
   ]
  },
  {
   "cell_type": "markdown",
   "id": "60d90d55",
   "metadata": {},
   "source": [
    "а) $(x,y)=0\\cdot(-4)+(-3)\\cdot7+6\\cdot9=0 + (-21) + 54=33.$"
   ]
  },
  {
   "cell_type": "markdown",
   "id": "c491efdb",
   "metadata": {},
   "source": [
    "б) $(x,y)=7\\cdot(-3)+(-4)\\cdot1+0\\cdot11+1\\cdot2=(-21) + (-4) + 0 + 2=-23.$"
   ]
  },
  {
   "cell_type": "markdown",
   "id": "2fd2be23",
   "metadata": {},
   "source": [
    "__2.__ Найдите нормы векторов $x=(4, 2, 4)$ и $y=(12, 3, 4)$ и угол между ними."
   ]
  },
  {
   "cell_type": "markdown",
   "id": "fbdb6d8c",
   "metadata": {},
   "source": [
    "__Решение__"
   ]
  },
  {
   "cell_type": "markdown",
   "id": "f5818295",
   "metadata": {},
   "source": [
    "Определим манхэттенскую норму векторов:\n",
    "\n",
    "$\\left\\|x\\right\\|_{1} = |4|+|2|+|4|=10.$\n",
    "\n",
    "$\\left\\|y\\right\\|_{1} = |12|+|3|+|4|=19.$"
   ]
  },
  {
   "cell_type": "markdown",
   "id": "1ee9d325",
   "metadata": {},
   "source": [
    "Определим евклидову норму векторов:\n",
    "\n",
    "$\\left\\|x\\right\\|_{2} = \\sqrt{4^{2}+2^{2}+4^{2}}=\\sqrt{36}=6.$\n",
    "\n",
    "$\\left\\|y\\right\\|_{2} = \\sqrt{12^{2}+3^{2}+4^{2}}=\\sqrt{169}=13.$"
   ]
  },
  {
   "cell_type": "markdown",
   "id": "158132c4",
   "metadata": {},
   "source": [
    "Определим угол между векторами $x$ и $y$:"
   ]
  },
  {
   "cell_type": "markdown",
   "id": "684c148e",
   "metadata": {},
   "source": [
    "$$cos\\varphi = \\frac{(x,y)}{\\left \\|x\\right \\|\\cdot\\left \\|y\\right \\|}=\\frac{4\\cdot12+2\\cdot3+4\\cdot4}{\\sqrt{4^{2}+2^{2}+4^{2}}\\cdot\\sqrt{12^{2}+3^{2}+4^{2}}}=\\frac{70}{78}\\approx 0.897$$"
   ]
  },
  {
   "cell_type": "markdown",
   "id": "924ed70e",
   "metadata": {},
   "source": [
    "__3.__ Определите, будет ли линейное пространство евклидовым, если за скалярное произведение принять:<br>\n",
    "а) произведение длин векторов;<br>\n",
    "б) утроенное обычное скалярное произведение векторов?<br>"
   ]
  },
  {
   "cell_type": "markdown",
   "id": "b442b00d",
   "metadata": {},
   "source": [
    "__Решение__"
   ]
  },
  {
   "cell_type": "markdown",
   "id": "19e779da",
   "metadata": {},
   "source": [
    "а) Произведение длин векторов не будет являться евклидовым линейным пространством, т. к. не выполняется третья аксиома."
   ]
  },
  {
   "cell_type": "markdown",
   "id": "5bbb6afd",
   "metadata": {},
   "source": [
    "б) Утроенное скалярное произведение векторов будет являться евклидовым линейным пространством, т. к. выполняются все аксиомы для Евклидова пространства."
   ]
  },
  {
   "cell_type": "markdown",
   "id": "ab0f3e08",
   "metadata": {},
   "source": [
    "__4.__ Выясните, какие из нижеперечисленных векторов образуют ортонормированный базис в линейном пространстве $\\mathbb{R}^{3}$:<br>\n",
    "а) $(1,0,0),(0,0,1);$ <br>\n",
    "б) $(1/\\sqrt{2},-1/\\sqrt{2},0),(1/\\sqrt{2},1/\\sqrt{2},0), (0,0,1);$<br>\n",
    "в) $(1/2, -1/2, 0), (0, 1/2, 1/2), (0,0,1);$<br>\n",
    "г) $(1,0,0),(0,1,0),(0,0,1)?$ "
   ]
  },
  {
   "cell_type": "markdown",
   "id": "df80172d",
   "metadata": {},
   "source": [
    "__Решение__"
   ]
  },
  {
   "cell_type": "markdown",
   "id": "c7c4e84d",
   "metadata": {},
   "source": [
    "а) образуют ортонормированный базис."
   ]
  },
  {
   "cell_type": "markdown",
   "id": "17fe08f2",
   "metadata": {},
   "source": [
    "б) векторы $a=(1/\\sqrt{2},-1/\\sqrt{2},0), b=(1/\\sqrt{2},1/\\sqrt{2},0), c=(0,0,1)$ образуют ортонормированный базис, т. к. выполняется условие $(e_{i}, e_{j})=0$ $\\forall$ $i\\neq j$ и $(e_{i},e_{i})=1$ $\\forall$ $i\\in[1, n].$"
   ]
  },
  {
   "cell_type": "markdown",
   "id": "fc20599b",
   "metadata": {},
   "source": [
    "$(a,a)=(1/\\sqrt{2}\\cdot1/\\sqrt{2}+(-1/\\sqrt{2})\\cdot(-1/\\sqrt{2})+0\\cdot0)=1$"
   ]
  },
  {
   "cell_type": "markdown",
   "id": "bbbe5a45",
   "metadata": {},
   "source": [
    "$(b,b)=(1/\\sqrt{2}\\cdot1/\\sqrt{2}+1/\\sqrt{2}\\cdot1/\\sqrt{2}+0\\cdot0)=1$"
   ]
  },
  {
   "cell_type": "markdown",
   "id": "cf8b988c",
   "metadata": {},
   "source": [
    "$(c,c)=(0\\cdot0+0\\cdot0+1\\cdot1)=1$"
   ]
  },
  {
   "cell_type": "markdown",
   "id": "578aecf6",
   "metadata": {},
   "source": [
    "$(a,b)=(1/\\sqrt{2}\\cdot1/\\sqrt{2}+(-1/\\sqrt{2})\\cdot1/\\sqrt{2}+0\\cdot0)=0$"
   ]
  },
  {
   "cell_type": "markdown",
   "id": "9f9421b5",
   "metadata": {},
   "source": [
    "$(a,c)=(1/\\sqrt{2}\\cdot0+(-1/\\sqrt{2})\\cdot0+0\\cdot1)=0$"
   ]
  },
  {
   "cell_type": "markdown",
   "id": "c4324d21",
   "metadata": {},
   "source": [
    "$(b,c)=(1/\\sqrt{2}\\cdot0+1/\\sqrt{2}\\cdot0+0\\cdot1)=0$"
   ]
  },
  {
   "cell_type": "markdown",
   "id": "27179a81",
   "metadata": {},
   "source": [
    "в) векторы $a=(1/2,-1/2,0), b=(0,1/2,1/2), c=(0,0,1)$ не образуют ортонормированный базис, т. к. не выполняется условие $(e_{i}, e_{j})=0$ $\\forall$ $i\\neq j$ и $(e_{i},e_{i})=1$ $\\forall$ $i\\in[1, n].$"
   ]
  },
  {
   "cell_type": "markdown",
   "id": "40cb52ff",
   "metadata": {},
   "source": [
    "$(a,a)=(1/2\\cdot1/2+(-1/2)\\cdot(-1/2)+0\\cdot0)=0.5$"
   ]
  },
  {
   "cell_type": "markdown",
   "id": "99ccefd8",
   "metadata": {},
   "source": [
    "$(b,b)=(0\\cdot0+1/2\\cdot1/2+1/2\\cdot1/2)=0.5$"
   ]
  },
  {
   "cell_type": "markdown",
   "id": "4460c8b3",
   "metadata": {},
   "source": [
    "$(c,c)=(0\\cdot0+0\\cdot0+1\\cdot1)=1$"
   ]
  },
  {
   "cell_type": "markdown",
   "id": "6a1b283f",
   "metadata": {},
   "source": [
    "$(a,b)=(1/2\\cdot0+(-1/2)\\cdot1/2+0\\cdot1/2)=-0.25$"
   ]
  },
  {
   "cell_type": "markdown",
   "id": "66350d37",
   "metadata": {},
   "source": [
    "$(a,c)=(1/2\\cdot0+(-1/2)\\cdot0+0\\cdot1)=0$"
   ]
  },
  {
   "cell_type": "markdown",
   "id": "29d9b809",
   "metadata": {},
   "source": [
    "$(b,c)=(0\\cdot0+1/2\\cdot0+1/2\\cdot1)=0.5$"
   ]
  },
  {
   "cell_type": "markdown",
   "id": "f8a0fc01",
   "metadata": {},
   "source": [
    "г) векторы $a=(1,0,0), b=(0,1,0), c=(0,0,1)$ образуют ортонормированный базис, т. к. выполняется условие $(e_{i}, e_{j})=0$ $\\forall$ $i\\neq j$ и $(e_{i},e_{i})=1$ $\\forall$ $i\\in[1, n].$"
   ]
  },
  {
   "cell_type": "markdown",
   "id": "fcf50d12",
   "metadata": {},
   "source": [
    "$(a,a)=(1\\cdot1+0\\cdot0+0\\cdot0)=1$"
   ]
  },
  {
   "cell_type": "markdown",
   "id": "1e6e6c82",
   "metadata": {},
   "source": [
    "$(b,b)=(0\\cdot0+1\\cdot1+0\\cdot0)=1$"
   ]
  },
  {
   "cell_type": "markdown",
   "id": "c53360c9",
   "metadata": {},
   "source": [
    "$(c,c)=(0\\cdot0+0\\cdot0+1\\cdot1)=1$"
   ]
  },
  {
   "cell_type": "markdown",
   "id": "e08a69a8",
   "metadata": {},
   "source": [
    "$(a,b)=(1\\cdot0+0\\cdot1+0\\cdot0)=0$"
   ]
  },
  {
   "cell_type": "markdown",
   "id": "1f0e2642",
   "metadata": {},
   "source": [
    "$(a,c)=(1\\cdot0+0\\cdot0+0\\cdot1)=0$"
   ]
  },
  {
   "cell_type": "markdown",
   "id": "973c5ee0",
   "metadata": {},
   "source": [
    "$(b,c)=(0\\cdot0+0\\cdot1+0\\cdot1)=0$"
   ]
  }
 ],
 "metadata": {
  "kernelspec": {
   "display_name": "Python 3 (ipykernel)",
   "language": "python",
   "name": "python3"
  },
  "language_info": {
   "codemirror_mode": {
    "name": "ipython",
    "version": 3
   },
   "file_extension": ".py",
   "mimetype": "text/x-python",
   "name": "python",
   "nbconvert_exporter": "python",
   "pygments_lexer": "ipython3",
   "version": "3.9.12"
  }
 },
 "nbformat": 4,
 "nbformat_minor": 5
}
