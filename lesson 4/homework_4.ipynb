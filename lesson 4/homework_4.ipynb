{
 "cells": [
  {
   "cell_type": "markdown",
   "id": "99226222",
   "metadata": {},
   "source": [
    "## Системы линейных уравнений. Часть 1"
   ]
  },
  {
   "cell_type": "code",
   "execution_count": 1,
   "id": "a2cc0d1d",
   "metadata": {},
   "outputs": [],
   "source": [
    "import numpy as np\n",
    "import scipy.linalg"
   ]
  },
  {
   "cell_type": "markdown",
   "id": "878521d2",
   "metadata": {},
   "source": [
    "__1.__ Решите систему уравнений методом Гаусса:\n",
    "\n",
    "$$\\begin{cases}\n",
    "x_{1}+x_{2}-x_{3}-2x_{4}=0, \\\\\n",
    "2x_{1}+x_{2}-x_{3}+x_{4}=-2, \\\\\n",
    "x_{1}+x_{2}-3x_{3}+x_{4}=4.\n",
    "\\end{cases}$$"
   ]
  },
  {
   "cell_type": "markdown",
   "id": "6d305071",
   "metadata": {},
   "source": [
    "__Решение__"
   ]
  },
  {
   "cell_type": "markdown",
   "id": "a95cf26c",
   "metadata": {},
   "source": [
    "Т.к. система имеет количество неизвестных больше, чем количество уравнений, значит система является недоопределённой."
   ]
  },
  {
   "cell_type": "markdown",
   "id": "48bc2626",
   "metadata": {},
   "source": [
    "Запишем расширенную матрицу:"
   ]
  },
  {
   "cell_type": "markdown",
   "id": "684eb328",
   "metadata": {},
   "source": [
    "$$\\begin{pmatrix}\n",
    "\\left.\\begin{matrix}\n",
    "1 & 1 & -1 & -2\\\\ \n",
    "2 & 1 & -1 & 1\\\\ \n",
    "1 & 1 & -3 & 1\n",
    "\\end{matrix}\\right|\n",
    "\\begin{matrix}\n",
    "0\\\\ \n",
    "-2\\\\\n",
    "4\n",
    "\\end{matrix}\n",
    "\\end{pmatrix}$$"
   ]
  },
  {
   "cell_type": "markdown",
   "id": "069b397a",
   "metadata": {},
   "source": [
    "Вычтем из третьей строки первую:"
   ]
  },
  {
   "cell_type": "markdown",
   "id": "d4dc8105",
   "metadata": {},
   "source": [
    "$$\\begin{pmatrix}\n",
    "\\left.\\begin{matrix}\n",
    "1 & 1 & -1 & -2\\\\ \n",
    "2 & 1 & -1 & 1\\\\ \n",
    "0 & 0 & -2 & 3\n",
    "\\end{matrix}\\right|\n",
    "\\begin{matrix}\n",
    "0\\\\ \n",
    "-2\\\\\n",
    "4\n",
    "\\end{matrix}\n",
    "\\end{pmatrix}$$"
   ]
  },
  {
   "cell_type": "markdown",
   "id": "3c902720",
   "metadata": {},
   "source": [
    "Умножим первую строку на 2 и вычтем её из второй:"
   ]
  },
  {
   "cell_type": "markdown",
   "id": "a94453fa",
   "metadata": {},
   "source": [
    "$$\\begin{pmatrix}\n",
    "\\left.\\begin{matrix}\n",
    "1 & 1 & -1 & -2\\\\ \n",
    "0 & -1 & 1 & 5\\\\ \n",
    "0 & 0 & -2 & 3\n",
    "\\end{matrix}\\right|\n",
    "\\begin{matrix}\n",
    "0\\\\ \n",
    "-2\\\\\n",
    "4\n",
    "\\end{matrix}\n",
    "\\end{pmatrix}$$"
   ]
  },
  {
   "cell_type": "markdown",
   "id": "da51f98b",
   "metadata": {},
   "source": [
    "Прибавим вторую строку к первой:"
   ]
  },
  {
   "cell_type": "markdown",
   "id": "4d018121",
   "metadata": {},
   "source": [
    "$$\\begin{pmatrix}\n",
    "\\left.\\begin{matrix}\n",
    "1 & 0 & 0 & 3\\\\ \n",
    "0 & -1 & 1 & 5\\\\ \n",
    "0 & 0 & -2 & 3\n",
    "\\end{matrix}\\right|\n",
    "\\begin{matrix}\n",
    "-2\\\\ \n",
    "-2\\\\\n",
    "4\n",
    "\\end{matrix}\n",
    "\\end{pmatrix}$$"
   ]
  },
  {
   "cell_type": "markdown",
   "id": "d8fb0396",
   "metadata": {},
   "source": [
    "Ранг матрицы системы и ранг расширенной матрицы равны."
   ]
  },
  {
   "cell_type": "markdown",
   "id": "c4c8e483",
   "metadata": {},
   "source": [
    "$rankA=rank \\tilde A=3$"
   ]
  },
  {
   "cell_type": "markdown",
   "id": "d0ea76c0",
   "metadata": {},
   "source": [
    "Т.к. ранги матриц равны и при этом они меньше числа неизвестных, следовательно, система имеет бесконечное количество решений."
   ]
  },
  {
   "cell_type": "markdown",
   "id": "922c2d1f",
   "metadata": {},
   "source": [
    "Оставшаяся матрица соотвествует системе:"
   ]
  },
  {
   "cell_type": "markdown",
   "id": "de131956",
   "metadata": {},
   "source": [
    "$$\\begin{cases}\n",
    "x_{1}+3x_{4}=-2, \\\\\n",
    "-x_{2}+x_{3}+5x_{4}=-2, \\\\\n",
    "-2x_{3}+3x_{4}=4.\n",
    "\\end{cases}$$"
   ]
  },
  {
   "cell_type": "markdown",
   "id": "bfa08f28",
   "metadata": {},
   "source": [
    "Пусть $x_{4}=c$, тогда:"
   ]
  },
  {
   "cell_type": "markdown",
   "id": "78bfca88",
   "metadata": {},
   "source": [
    "$$-2x_{3}+3c=4 \\; \\Leftrightarrow \\; x_{3}=-\\frac{(4-3c)}{2}=-2+\\frac{3}{2}c,$$"
   ]
  },
  {
   "cell_type": "markdown",
   "id": "b7b798e9",
   "metadata": {},
   "source": [
    "$$-x_{2}-2+\\frac{3c}{2}+5c=-2 \\; \\Leftrightarrow \\; x_{2}=\\frac{13}{2}c,$$"
   ]
  },
  {
   "cell_type": "markdown",
   "id": "806db39c",
   "metadata": {},
   "source": [
    "$$x_{1}+3c=-2 \\; \\Leftrightarrow \\; x_{1}=-2-3c,$$"
   ]
  },
  {
   "cell_type": "markdown",
   "id": "49e21853",
   "metadata": {},
   "source": [
    "Таковым является общее решение системы."
   ]
  },
  {
   "cell_type": "markdown",
   "id": "64ac0cea",
   "metadata": {},
   "source": [
    "Найдём частное решение при $c=0:$"
   ]
  },
  {
   "cell_type": "markdown",
   "id": "f3a4de5c",
   "metadata": {},
   "source": [
    "$$x_{1}=-2,$$\n",
    "\n",
    "$$x_{2}=0,$$\n",
    "\n",
    "$$x_{3}=-2,$$\n",
    "\n",
    "$$x_{4}=0.$$"
   ]
  },
  {
   "cell_type": "markdown",
   "id": "6c491f6b",
   "metadata": {},
   "source": [
    "Подставим в систему:"
   ]
  },
  {
   "cell_type": "markdown",
   "id": "6d6934a1",
   "metadata": {},
   "source": [
    "$$\\begin{cases}\n",
    "-2+0-(-2)-2\\cdot0=0, \\\\\n",
    "2\\cdot(-2)+0-(-2)+0=-2, \\\\\n",
    "-2+0-3\\cdot(-2)+0=4.\n",
    "\\end{cases}$$"
   ]
  },
  {
   "cell_type": "markdown",
   "id": "ae2d232a",
   "metadata": {},
   "source": [
    "__2.__ Проверьте на совместность и выясните, сколько решений будет иметь система линейных уравнений:\n",
    "\n",
    "   а) $\\begin{cases}\n",
    "3x_{1}-x_{2}+x_{3}=4, \\\\\n",
    "2x_{1}-5x_{2}-3x_{3}=-17, \\\\\n",
    "x_{1}+x_{2}-x_{3}=0;\n",
    "\\end{cases}$\n",
    "    \n",
    "   б) $\\begin{cases}\n",
    "2x_{1}-4x_{2}+6x_{3}=1, \\\\\n",
    "x_{1}-2x_{2}+3x_{3}=-2, \\\\\n",
    "3x_{1}-6x_{2}+9x_{3}=5;\n",
    "\\end{cases}$\n",
    "    \n",
    "   в) $\\begin{cases}\n",
    "x_{1}+2x_{2}+5x_{3}=4, \\\\\n",
    "3x_{1}+x_{2}-8x_{3}=-2. \n",
    "\\end{cases}$"
   ]
  },
  {
   "cell_type": "markdown",
   "id": "19ee8797",
   "metadata": {},
   "source": [
    "__Решение__"
   ]
  },
  {
   "cell_type": "markdown",
   "id": "9d8bd154",
   "metadata": {},
   "source": [
    "а) Составим расширенную матрицу системы:"
   ]
  },
  {
   "cell_type": "markdown",
   "id": "8ccd7e98",
   "metadata": {},
   "source": [
    "$$\\begin{pmatrix}\n",
    "\\left.\\begin{matrix}\n",
    "3 & -1 & 1 \\\\ \n",
    "2 & -5 & -3 \\\\ \n",
    "1 & 1 & -1\n",
    "\\end{matrix}\\right|\n",
    "\\begin{matrix}\n",
    "4\\\\ \n",
    "-17\\\\\n",
    "0\n",
    "\\end{matrix}\n",
    "\\end{pmatrix}$$"
   ]
  },
  {
   "cell_type": "markdown",
   "id": "bbacd353",
   "metadata": {},
   "source": [
    "Сравним ранги матрицы системы и расширенной матрицы:"
   ]
  },
  {
   "cell_type": "code",
   "execution_count": 4,
   "id": "c6370b4c",
   "metadata": {},
   "outputs": [
    {
     "data": {
      "text/plain": [
       "(array([[ 3, -1,  1],\n",
       "        [ 2, -5, -3],\n",
       "        [ 1,  1, -1]]),\n",
       " array([[  3,  -1,   1,   4],\n",
       "        [  2,  -5,  -3, -17],\n",
       "        [  1,   1,  -1,   0]]))"
      ]
     },
     "execution_count": 4,
     "metadata": {},
     "output_type": "execute_result"
    }
   ],
   "source": [
    "a = np.array([[3, -1, 1], [2, -5, -3], [1, 1, -1]])\n",
    "b = np.array([[3, -1, 1, 4], [2, -5, -3, -17], [1, 1, -1, 0]])\n",
    "a, b"
   ]
  },
  {
   "cell_type": "code",
   "execution_count": 5,
   "id": "12ea0011",
   "metadata": {},
   "outputs": [
    {
     "name": "stdout",
     "output_type": "stream",
     "text": [
      "Ранг матрицы системы: 3\n",
      "Ранг расширенной матрицы: 3\n"
     ]
    }
   ],
   "source": [
    "print(f'Ранг матрицы системы: {np.linalg.matrix_rank(a)}\\n'\n",
    "      f'Ранг расширенной матрицы: {np.linalg.matrix_rank(b)}')"
   ]
  },
  {
   "cell_type": "markdown",
   "id": "340d0335",
   "metadata": {},
   "source": [
    "$rankA=rank \\tilde A=n=3$, где $n$ - количество неизвестных. Следовательно, система совместна и имеет одно единественное решение."
   ]
  },
  {
   "cell_type": "markdown",
   "id": "ce19272b",
   "metadata": {},
   "source": [
    "б) Составим расширенную матрицу системы:"
   ]
  },
  {
   "cell_type": "markdown",
   "id": "3f11aa67",
   "metadata": {},
   "source": [
    "$$\\begin{pmatrix}\n",
    "\\left.\\begin{matrix}\n",
    "2 & -4 & 6 \\\\ \n",
    "1 & -2 & 3 \\\\ \n",
    "3 & -6 & 9\n",
    "\\end{matrix}\\right|\n",
    "\\begin{matrix}\n",
    "1\\\\ \n",
    "-2\\\\\n",
    "5\n",
    "\\end{matrix}\n",
    "\\end{pmatrix}$$"
   ]
  },
  {
   "cell_type": "markdown",
   "id": "f465bd71",
   "metadata": {},
   "source": [
    "Сравним ранги матрицы системы и расширенной матрицы:"
   ]
  },
  {
   "cell_type": "code",
   "execution_count": 6,
   "id": "19dae1bf",
   "metadata": {},
   "outputs": [
    {
     "data": {
      "text/plain": [
       "(array([[ 2, -4,  6],\n",
       "        [ 1, -2,  3],\n",
       "        [ 3, -6,  9]]),\n",
       " array([[ 2, -4,  6,  1],\n",
       "        [ 1, -2,  3, -2],\n",
       "        [ 3, -6,  9,  5]]))"
      ]
     },
     "execution_count": 6,
     "metadata": {},
     "output_type": "execute_result"
    }
   ],
   "source": [
    "a = np.array([[2, -4, 6], [1, -2, 3], [3, -6, 9]])\n",
    "b = np.array([[2, -4, 6, 1], [1, -2, 3, -2], [3, -6, 9, 5]])\n",
    "a, b"
   ]
  },
  {
   "cell_type": "code",
   "execution_count": 7,
   "id": "1e17950e",
   "metadata": {},
   "outputs": [
    {
     "name": "stdout",
     "output_type": "stream",
     "text": [
      "Ранг матрицы системы: 1\n",
      "Ранг расширенной матрицы: 2\n"
     ]
    }
   ],
   "source": [
    "print(f'Ранг матрицы системы: {np.linalg.matrix_rank(a)}\\n'\n",
    "      f'Ранг расширенной матрицы: {np.linalg.matrix_rank(b)}')"
   ]
  },
  {
   "cell_type": "markdown",
   "id": "bd9bba4f",
   "metadata": {},
   "source": [
    "$rankA\\neq rank \\tilde A$. Следовательно, система несовместна и не имеет решений."
   ]
  },
  {
   "cell_type": "markdown",
   "id": "ba35f3d1",
   "metadata": {},
   "source": [
    "в) Составим расширенную матрицу системы:"
   ]
  },
  {
   "cell_type": "markdown",
   "id": "56852188",
   "metadata": {},
   "source": [
    "$$\\begin{pmatrix}\n",
    "\\left.\\begin{matrix}\n",
    "1 & 2 & 5 \\\\ \n",
    "3 & 1 & -8 \n",
    "\\end{matrix}\\right|\n",
    "\\begin{matrix}\n",
    "4\\\\ \n",
    "-2\n",
    "\\end{matrix}\n",
    "\\end{pmatrix}$$"
   ]
  },
  {
   "cell_type": "markdown",
   "id": "35f798e0",
   "metadata": {},
   "source": [
    "Сравним ранги матрицы системы и расширенной матрицы:"
   ]
  },
  {
   "cell_type": "code",
   "execution_count": 8,
   "id": "56277a13",
   "metadata": {},
   "outputs": [
    {
     "data": {
      "text/plain": [
       "(array([[ 1,  2,  5],\n",
       "        [ 3,  1, -8]]),\n",
       " array([[ 1,  2,  5,  4],\n",
       "        [ 3,  1, -8, -2]]))"
      ]
     },
     "execution_count": 8,
     "metadata": {},
     "output_type": "execute_result"
    }
   ],
   "source": [
    "a = np.array([[1, 2, 5], [3, 1, -8]])\n",
    "b = np.array([[1, 2, 5, 4], [3, 1, -8, -2]])\n",
    "a, b"
   ]
  },
  {
   "cell_type": "code",
   "execution_count": 9,
   "id": "0107174e",
   "metadata": {},
   "outputs": [
    {
     "name": "stdout",
     "output_type": "stream",
     "text": [
      "Ранг матрицы системы: 2\n",
      "Ранг расширенной матрицы: 2\n"
     ]
    }
   ],
   "source": [
    "print(f'Ранг матрицы системы: {np.linalg.matrix_rank(a)}\\n'\n",
    "      f'Ранг расширенной матрицы: {np.linalg.matrix_rank(b)}')"
   ]
  },
  {
   "cell_type": "markdown",
   "id": "fb81c66b",
   "metadata": {},
   "source": [
    "Т.к. $rankA=rank \\tilde A$, то система совместна, но неопределена и имеет множество решений."
   ]
  },
  {
   "cell_type": "markdown",
   "id": "4d649916",
   "metadata": {},
   "source": [
    "__3.__ Проверьте на совместность и выясните, сколько решений будет иметь система линейных уравнений, заданная расширенной матрицей:\n",
    "\n",
    "$$\\tilde{A}=\\begin{pmatrix}\n",
    "\\left.\\begin{matrix}\n",
    "1 & 3 & -2 & 4\\\\ \n",
    "0 & 5 & 0 & 1\\\\ \n",
    "0 & 0 & 3 & 0\\\\ \n",
    "0 & 0 & 0 & 2\n",
    "\\end{matrix}\\right|\n",
    "\\begin{matrix}\n",
    "3\\\\ \n",
    "2\\\\\n",
    "4\\\\\n",
    "1\n",
    "\\end{matrix}\n",
    "\\end{pmatrix}.$$"
   ]
  },
  {
   "cell_type": "markdown",
   "id": "ae759aa2",
   "metadata": {},
   "source": [
    "**Решение**"
   ]
  },
  {
   "cell_type": "markdown",
   "id": "81610f97",
   "metadata": {},
   "source": [
    "Сравним ранги матрицы системы и расширенной матрицы:"
   ]
  },
  {
   "cell_type": "code",
   "execution_count": 2,
   "id": "0980e7d7",
   "metadata": {},
   "outputs": [
    {
     "data": {
      "text/plain": [
       "(array([[ 1,  3, -2,  4],\n",
       "        [ 0,  5,  0,  1],\n",
       "        [ 0,  0,  3,  0],\n",
       "        [ 0,  0,  0,  2]]),\n",
       " array([[ 1,  3, -2,  4,  3],\n",
       "        [ 0,  5,  0,  1,  2],\n",
       "        [ 0,  0,  3,  0,  4],\n",
       "        [ 0,  0,  0,  2,  1]]))"
      ]
     },
     "execution_count": 2,
     "metadata": {},
     "output_type": "execute_result"
    }
   ],
   "source": [
    "a = np.array([[1, 3, -2, 4], [0, 5, 0, 1], [0, 0, 3, 0], [0, 0, 0, 2]])\n",
    "b = np.array([[1, 3, -2, 4, 3], [0, 5, 0, 1, 2], [0, 0, 3, 0, 4], [0, 0, 0, 2, 1]])\n",
    "a, b"
   ]
  },
  {
   "cell_type": "code",
   "execution_count": 3,
   "id": "2bb98d30",
   "metadata": {},
   "outputs": [
    {
     "name": "stdout",
     "output_type": "stream",
     "text": [
      "Ранг матрицы системы: 4\n",
      "Ранг расширенной матрицы: 4\n"
     ]
    }
   ],
   "source": [
    "print(f'Ранг матрицы системы: {np.linalg.matrix_rank(a)}\\n'\n",
    "      f'Ранг расширенной матрицы: {np.linalg.matrix_rank(b)}')"
   ]
  },
  {
   "cell_type": "markdown",
   "id": "b83c1c3c",
   "metadata": {},
   "source": [
    "$rankA=rank \\tilde A=n=4$, где $n$ - количество неизвестных. Следовательно, система совместна и имеет одно единественное решение."
   ]
  },
  {
   "cell_type": "markdown",
   "id": "fe754a68",
   "metadata": {},
   "source": [
    "__4.__ Дана система линейных уравнений, заданная расширенной матрицей:\n",
    "\n",
    "$$\\tilde{A}=\\begin{pmatrix}\n",
    "\\left.\\begin{matrix}\n",
    "1 & 2 & 3\\\\ \n",
    "4 & 5 & 6\\\\ \n",
    "7 & 8 & 9\n",
    "\\end{matrix}\\right|\n",
    "\\begin{matrix}\n",
    "a\\\\ \n",
    "b\\\\\n",
    "c\n",
    "\\end{matrix}\n",
    "\\end{pmatrix}.$$\n",
    "\n",
    "Найдите соотношение между параметрами $a$, $b$ и $c$, при которых система считается несовместной."
   ]
  },
  {
   "cell_type": "markdown",
   "id": "2d50ee10",
   "metadata": {},
   "source": [
    "**Решение**"
   ]
  },
  {
   "cell_type": "markdown",
   "id": "4172b7ff",
   "metadata": {},
   "source": [
    "Преобразуем $\\tilde{A}$. Вычтем из второй строки первую, умноженную на 4:"
   ]
  },
  {
   "cell_type": "markdown",
   "id": "ce63d0d7",
   "metadata": {},
   "source": [
    "$$\\tilde{A}=\\begin{pmatrix}\n",
    "\\left.\\begin{matrix}\n",
    "1 & 2 & 3\\\\ \n",
    "0 & -3 & -6\\\\ \n",
    "7 & 8 & 9\n",
    "\\end{matrix}\\right|\n",
    "\\begin{matrix}\n",
    "a\\\\ \n",
    "b-4a\\\\\n",
    "c\n",
    "\\end{matrix}\n",
    "\\end{pmatrix}$$"
   ]
  },
  {
   "cell_type": "markdown",
   "id": "3f0e1602",
   "metadata": {},
   "source": [
    "Вычтем из третьей строки первую, умноженную на 7:"
   ]
  },
  {
   "cell_type": "markdown",
   "id": "eb4cb4b5",
   "metadata": {},
   "source": [
    "$$\\tilde{A}=\\begin{pmatrix}\n",
    "\\left.\\begin{matrix}\n",
    "1 & 2 & 3\\\\ \n",
    "0 & -3 & -6\\\\ \n",
    "0 & -6 & -12\n",
    "\\end{matrix}\\right|\n",
    "\\begin{matrix}\n",
    "a\\\\ \n",
    "b-4a\\\\\n",
    "c-7a\n",
    "\\end{matrix}\n",
    "\\end{pmatrix}$$"
   ]
  },
  {
   "cell_type": "markdown",
   "id": "92a8cd31",
   "metadata": {},
   "source": [
    "Вычтем из третьей строки вторую, умноженную на 2:"
   ]
  },
  {
   "cell_type": "markdown",
   "id": "04ff1fa5",
   "metadata": {},
   "source": [
    "$$\\tilde{A}=\\begin{pmatrix}\n",
    "\\left.\\begin{matrix}\n",
    "1 & 2 & 3\\\\ \n",
    "0 & -3 & -6\\\\ \n",
    "0 & 0 & 0\n",
    "\\end{matrix}\\right|\n",
    "\\begin{matrix}\n",
    "a\\\\ \n",
    "b-4a\\\\\n",
    "c-7a-2(b-4a)\n",
    "\\end{matrix}\n",
    "\\end{pmatrix}=\\begin{pmatrix}\n",
    "\\left.\\begin{matrix}\n",
    "1 & 2 & 3\\\\\n",
    "0 & -3 & -6\\\\\n",
    "0 & 0 & 0\n",
    "\\end{matrix}\\right|\n",
    "\\begin{matrix}\n",
    "a\\\\\n",
    "b-4a\\\\\n",
    "c+a-2b\n",
    "\\end{matrix}\n",
    "\\end{pmatrix}$$"
   ]
  },
  {
   "cell_type": "markdown",
   "id": "14077444",
   "metadata": {},
   "source": [
    "Определим ранг матрицы системы:"
   ]
  },
  {
   "cell_type": "code",
   "execution_count": 4,
   "id": "6fc0ba9c",
   "metadata": {},
   "outputs": [
    {
     "data": {
      "text/plain": [
       "array([[ 1,  2,  3],\n",
       "       [ 0, -3, -6],\n",
       "       [ 0,  0,  0]])"
      ]
     },
     "execution_count": 4,
     "metadata": {},
     "output_type": "execute_result"
    }
   ],
   "source": [
    "a = np.array([[1, 2, 3], [0, -3, -6], [0, 0, 0]])\n",
    "a"
   ]
  },
  {
   "cell_type": "code",
   "execution_count": 5,
   "id": "84e90132",
   "metadata": {},
   "outputs": [
    {
     "name": "stdout",
     "output_type": "stream",
     "text": [
      "Ранг матрицы системы: 2\n"
     ]
    }
   ],
   "source": [
    "print(f'Ранг матрицы системы: {np.linalg.matrix_rank(a)}')"
   ]
  },
  {
   "cell_type": "markdown",
   "id": "e3c33556",
   "metadata": {},
   "source": [
    "Т.к. $rankA=2$, то для выполнения условия несовместности необходимо, чтобы $rank\\tilde A>2$. Это возможно при условии $c+a-2b\\neq0$."
   ]
  },
  {
   "cell_type": "markdown",
   "id": "c5706882",
   "metadata": {},
   "source": [
    "## Системы линейных уравнений. Часть 2"
   ]
  },
  {
   "cell_type": "markdown",
   "id": "06c31801",
   "metadata": {},
   "source": [
    "__1.__ Решите систему уравнений методом Крамера:\n",
    "\n",
    "   а) $\\begin{cases}\n",
    "x_{1}-2x_{2}=1 \\\\\n",
    "3x_{1}-4x_{2}=7\n",
    "\\end{cases}$\n",
    "    \n",
    "   б) $\\begin{cases}\n",
    "2x_{1}-x_{2}+5x_{3}=10 \\\\\n",
    "x_{1}+x_{2}-3x_{3}=-2 \\\\\n",
    "2x_{1}+4x_{2}+x_{3}=1\n",
    "\\end{cases}$"
   ]
  },
  {
   "cell_type": "markdown",
   "id": "a34bc844",
   "metadata": {},
   "source": [
    "**Решение**"
   ]
  },
  {
   "cell_type": "markdown",
   "id": "aafed6df",
   "metadata": {},
   "source": [
    "а) Найдём определитель матрицы коэффициентов:"
   ]
  },
  {
   "cell_type": "code",
   "execution_count": 3,
   "id": "8ebac5ae",
   "metadata": {},
   "outputs": [
    {
     "data": {
      "text/plain": [
       "array([[ 1, -2],\n",
       "       [ 3, -4]])"
      ]
     },
     "execution_count": 3,
     "metadata": {},
     "output_type": "execute_result"
    }
   ],
   "source": [
    "a = np.array([[1, -2], [3, -4]])\n",
    "a"
   ]
  },
  {
   "cell_type": "code",
   "execution_count": 20,
   "id": "4a29dae4",
   "metadata": {},
   "outputs": [],
   "source": [
    "det_a = np.linalg.det(a)"
   ]
  },
  {
   "cell_type": "code",
   "execution_count": 21,
   "id": "88fec746",
   "metadata": {},
   "outputs": [
    {
     "name": "stdout",
     "output_type": "stream",
     "text": [
      "Определитель матрицы коэффициентов detA = 2\n"
     ]
    }
   ],
   "source": [
    "print(f'Определитель матрицы коэффициентов detA = {det_a:.0f}')"
   ]
  },
  {
   "cell_type": "markdown",
   "id": "cd419d5c",
   "metadata": {},
   "source": [
    "Найдём определитель $detA_{1}:$"
   ]
  },
  {
   "cell_type": "code",
   "execution_count": 22,
   "id": "7ee38a5d",
   "metadata": {},
   "outputs": [
    {
     "data": {
      "text/plain": [
       "array([[ 1, -2],\n",
       "       [ 7, -4]])"
      ]
     },
     "execution_count": 22,
     "metadata": {},
     "output_type": "execute_result"
    }
   ],
   "source": [
    "a_1 = np.array([[1, -2], [7, -4]])\n",
    "a_1"
   ]
  },
  {
   "cell_type": "code",
   "execution_count": 23,
   "id": "9c61845d",
   "metadata": {},
   "outputs": [
    {
     "name": "stdout",
     "output_type": "stream",
     "text": [
      "Определитель матрицы коэффициентов detA = 10\n"
     ]
    }
   ],
   "source": [
    "det_a_1 = np.linalg.det(a_1)\n",
    "print(f'Определитель матрицы коэффициентов detA = {det_a_1:.0f}')"
   ]
  },
  {
   "cell_type": "markdown",
   "id": "8aab1338",
   "metadata": {},
   "source": [
    "Найдём определитель $detA_{2}:$"
   ]
  },
  {
   "cell_type": "code",
   "execution_count": 24,
   "id": "3c83268d",
   "metadata": {},
   "outputs": [
    {
     "data": {
      "text/plain": [
       "array([[1, 1],\n",
       "       [3, 7]])"
      ]
     },
     "execution_count": 24,
     "metadata": {},
     "output_type": "execute_result"
    }
   ],
   "source": [
    "a_2 = np.array([[1, 1], [3, 7]])\n",
    "a_2"
   ]
  },
  {
   "cell_type": "code",
   "execution_count": 25,
   "id": "b491a6e0",
   "metadata": {},
   "outputs": [
    {
     "name": "stdout",
     "output_type": "stream",
     "text": [
      "Определитель матрицы коэффициентов detA = 4\n"
     ]
    }
   ],
   "source": [
    "det_a_2 = np.linalg.det(a_2)\n",
    "print(f'Определитель матрицы коэффициентов detA = {det_a_2:.0f}')"
   ]
  },
  {
   "cell_type": "code",
   "execution_count": 26,
   "id": "7cc0f998",
   "metadata": {},
   "outputs": [
    {
     "name": "stdout",
     "output_type": "stream",
     "text": [
      "x1 = 5\n",
      "x2 = 2\n"
     ]
    }
   ],
   "source": [
    "print(f'x1 = {det_a_1 / det_a:.0f}\\n'\n",
    "      f'x2 = {det_a_2 / det_a:.0f}')"
   ]
  },
  {
   "cell_type": "markdown",
   "id": "b23974e8",
   "metadata": {},
   "source": [
    "б)"
   ]
  },
  {
   "cell_type": "code",
   "execution_count": 27,
   "id": "a9effb22",
   "metadata": {
    "scrolled": true
   },
   "outputs": [
    {
     "data": {
      "text/plain": [
       "array([[ 2, -1,  5],\n",
       "       [ 1,  1, -3],\n",
       "       [ 2,  4,  1]])"
      ]
     },
     "execution_count": 27,
     "metadata": {},
     "output_type": "execute_result"
    }
   ],
   "source": [
    "a = np.array([[2, -1, 5], [1, 1, -3], [2, 4, 1]])\n",
    "a"
   ]
  },
  {
   "cell_type": "code",
   "execution_count": 28,
   "id": "427833c1",
   "metadata": {},
   "outputs": [],
   "source": [
    "det_a = np.linalg.det(a)"
   ]
  },
  {
   "cell_type": "code",
   "execution_count": 29,
   "id": "11d6cff3",
   "metadata": {},
   "outputs": [
    {
     "name": "stdout",
     "output_type": "stream",
     "text": [
      "Определитель матрицы коэффициентов detA = 43\n"
     ]
    }
   ],
   "source": [
    "print(f'Определитель матрицы коэффициентов detA = {det_a:.0f}')"
   ]
  },
  {
   "cell_type": "code",
   "execution_count": 32,
   "id": "964767ac",
   "metadata": {},
   "outputs": [
    {
     "name": "stdout",
     "output_type": "stream",
     "text": [
      "detA1 = 86, x1 = 2\n",
      "detA2 = -43, x2 = -1\n",
      "detA3 = 43, x3 = 1\n"
     ]
    }
   ],
   "source": [
    "b = np.array([[10], [-2], [1]])\n",
    "dets = []\n",
    "for i in range(len(a[1])):\n",
    "    a_copy = a.copy()\n",
    "    for j in range(len(a)):\n",
    "        a_copy[j][i] = b[j]\n",
    "    dets.append(np.linalg.det(a_copy))\n",
    "    \n",
    "for i, det in enumerate(dets):\n",
    "    print(f'detA{i + 1} = {det:.0f}, x{i + 1} = {det / det_a:.0f}')"
   ]
  },
  {
   "cell_type": "markdown",
   "id": "07ed0097",
   "metadata": {},
   "source": [
    "__2*.__ Найдите $L$-матрицу $LU$-разложения для матрицы коэффициентов:\n",
    "\n",
    "   а)$$\\begin{pmatrix}\n",
    "1 & 2 & 4 \\\\ \n",
    "2 & 9 & 12 \\\\ \n",
    "3 & 26 & 30\n",
    "\\end{pmatrix}$$\n",
    "    \n",
    "   б)$$\\begin{pmatrix}\n",
    "1 & 1 & 2 & 4\\\\ \n",
    "2 & 5 & 8 & 9\\\\ \n",
    "3 & 18 & 29 & 18\\\\\n",
    "4 & 22 & 53 & 33\n",
    "\\end{pmatrix}$$"
   ]
  },
  {
   "cell_type": "markdown",
   "id": "12c11810",
   "metadata": {},
   "source": [
    "**Решение**"
   ]
  },
  {
   "cell_type": "markdown",
   "id": "7a1235b9",
   "metadata": {},
   "source": [
    "а) $U=\\begin{pmatrix}\n",
    "1 & 2 & 4 \\\\ \n",
    "2 & 9 & 12 \\\\ \n",
    "3 & 26 & 30\n",
    "\\end{pmatrix}$"
   ]
  },
  {
   "cell_type": "markdown",
   "id": "c10487d4",
   "metadata": {},
   "source": [
    "Умножим первую строку на 2 и вычтем из второй, добавим этот множитель в матрицу $L$:"
   ]
  },
  {
   "cell_type": "markdown",
   "id": "7f46de67",
   "metadata": {},
   "source": [
    "$U=\\begin{pmatrix}\n",
    "1 & 2 & 4 \\\\ \n",
    "0 & 5 & 4 \\\\ \n",
    "3 & 26 & 30\n",
    "\\end{pmatrix}$"
   ]
  },
  {
   "cell_type": "markdown",
   "id": "8e89ec03",
   "metadata": {},
   "source": [
    "$L=\\begin{pmatrix}\n",
    "1 & 0 & 0 \\\\ \n",
    "2 & 1 & 0 \\\\ \n",
    "0 & 0 & 1\n",
    "\\end{pmatrix}$"
   ]
  },
  {
   "cell_type": "markdown",
   "id": "9d46f792",
   "metadata": {},
   "source": [
    "Умножим первую строку на 3 и вычтем из третьей, добавим этот множитель в матрицу $L$:"
   ]
  },
  {
   "cell_type": "markdown",
   "id": "9d43b092",
   "metadata": {},
   "source": [
    "$U=\\begin{pmatrix}\n",
    "1 & 2 & 4 \\\\ \n",
    "0 & 5 & 4 \\\\ \n",
    "0 & 20 & 18\n",
    "\\end{pmatrix}$"
   ]
  },
  {
   "cell_type": "markdown",
   "id": "0e53c970",
   "metadata": {},
   "source": [
    "$L=\\begin{pmatrix}\n",
    "1 & 0 & 0 \\\\ \n",
    "2 & 1 & 0 \\\\ \n",
    "3 & 0 & 1\n",
    "\\end{pmatrix}$"
   ]
  },
  {
   "cell_type": "markdown",
   "id": "858f0b83",
   "metadata": {},
   "source": [
    "Умножим вторую строку на 4 и вычтем из третьей, добавим этот множитель в матрицу $L$:"
   ]
  },
  {
   "cell_type": "markdown",
   "id": "3a1d486f",
   "metadata": {},
   "source": [
    "$U=\\begin{pmatrix}\n",
    "1 & 2 & 4 \\\\ \n",
    "0 & 5 & 4 \\\\ \n",
    "0 & 0 & 2\n",
    "\\end{pmatrix}$"
   ]
  },
  {
   "cell_type": "markdown",
   "id": "2a4607c2",
   "metadata": {},
   "source": [
    "$L=\\begin{pmatrix}\n",
    "1 & 0 & 0 \\\\ \n",
    "2 & 1 & 0 \\\\ \n",
    "3 & 4 & 1\n",
    "\\end{pmatrix}$"
   ]
  },
  {
   "cell_type": "markdown",
   "id": "2eedc6b9",
   "metadata": {},
   "source": [
    "Проверим с помощью numpy:"
   ]
  },
  {
   "cell_type": "code",
   "execution_count": 35,
   "id": "e4359bc2",
   "metadata": {},
   "outputs": [
    {
     "data": {
      "text/plain": [
       "array([[ 1,  2,  4],\n",
       "       [ 2,  9, 12],\n",
       "       [ 3, 26, 30]])"
      ]
     },
     "execution_count": 35,
     "metadata": {},
     "output_type": "execute_result"
    }
   ],
   "source": [
    "u = np.array([[1, 2, 4], [0, 5, 4], [0, 0, 2]])\n",
    "l = np.array([[1, 0, 0], [2, 1, 0], [3, 4, 1]])\n",
    "l@u"
   ]
  },
  {
   "cell_type": "markdown",
   "id": "1ef350e2",
   "metadata": {},
   "source": [
    "б) $U=\\begin{pmatrix}\n",
    "1 & 1 & 2 & 4\\\\ \n",
    "2 & 5 & 8 & 9\\\\ \n",
    "3 & 18 & 29 & 18\\\\\n",
    "4 & 22 & 53 & 33\n",
    "\\end{pmatrix}$"
   ]
  },
  {
   "cell_type": "markdown",
   "id": "3498a3ce",
   "metadata": {},
   "source": [
    "Из второй, третьей и четвёртой строк вычитаем первую, умноженную на 2, 3 и 4, соответственно, добавляя множители в матрицу $L$:"
   ]
  },
  {
   "cell_type": "markdown",
   "id": "0c10c1df",
   "metadata": {},
   "source": [
    "$U=\\begin{pmatrix}\n",
    "1 & 1 & 2 & 4\\\\ \n",
    "0 & 3 & 4 & 1\\\\ \n",
    "0 & 15 & 23 & 6\\\\\n",
    "0 & 18 & 45 & 17\n",
    "\\end{pmatrix}$"
   ]
  },
  {
   "cell_type": "markdown",
   "id": "793d7a67",
   "metadata": {},
   "source": [
    "$L=\\begin{pmatrix}\n",
    "1 & 0 & 0 & 0\\\\ \n",
    "2 & 1 & 0 & 0\\\\ \n",
    "3 & 0 & 1 & 0\\\\\n",
    "4 & 0 & 0 & 1\n",
    "\\end{pmatrix}$"
   ]
  },
  {
   "cell_type": "markdown",
   "id": "9dbc4377",
   "metadata": {},
   "source": [
    "Из третьей и четвёртой строк вычитаем вторую, умноженную на 5 и 6, соответственно, добавляя множители в матрицу $L$:"
   ]
  },
  {
   "cell_type": "markdown",
   "id": "58f63d9f",
   "metadata": {},
   "source": [
    "$U=\\begin{pmatrix}\n",
    "1 & 1 & 2 & 4\\\\ \n",
    "0 & 3 & 4 & 1\\\\ \n",
    "0 & 0 & 3 & 1\\\\\n",
    "0 & 0 & 21 & 11\n",
    "\\end{pmatrix}$"
   ]
  },
  {
   "cell_type": "markdown",
   "id": "8d05c5c6",
   "metadata": {},
   "source": [
    "$L=\\begin{pmatrix}\n",
    "1 & 0 & 0 & 0\\\\ \n",
    "2 & 1 & 0 & 0\\\\ \n",
    "3 & 5 & 1 & 0\\\\\n",
    "4 & 6 & 0 & 1\n",
    "\\end{pmatrix}$"
   ]
  },
  {
   "cell_type": "markdown",
   "id": "aca192fa",
   "metadata": {},
   "source": [
    "Из четвёртой строки вычтем третью, умноженную на 7, добавляя множитель в матрицу $L$:"
   ]
  },
  {
   "cell_type": "markdown",
   "id": "7da401f4",
   "metadata": {},
   "source": [
    "$U=\\begin{pmatrix}\n",
    "1 & 1 & 2 & 4\\\\ \n",
    "0 & 3 & 4 & 1\\\\ \n",
    "0 & 0 & 3 & 1\\\\\n",
    "0 & 0 & 0 & 4\n",
    "\\end{pmatrix}$"
   ]
  },
  {
   "cell_type": "markdown",
   "id": "d42be5f8",
   "metadata": {},
   "source": [
    "$L=\\begin{pmatrix}\n",
    "1 & 0 & 0 & 0\\\\ \n",
    "2 & 1 & 0 & 0\\\\ \n",
    "3 & 5 & 1 & 0\\\\\n",
    "4 & 6 & 7 & 1\n",
    "\\end{pmatrix}$"
   ]
  },
  {
   "cell_type": "markdown",
   "id": "d0c73a8d",
   "metadata": {},
   "source": [
    "Проверим с помощью numpy:"
   ]
  },
  {
   "cell_type": "code",
   "execution_count": 36,
   "id": "75ee9f13",
   "metadata": {},
   "outputs": [
    {
     "data": {
      "text/plain": [
       "array([[ 1,  1,  2,  4],\n",
       "       [ 2,  5,  8,  9],\n",
       "       [ 3, 18, 29, 18],\n",
       "       [ 4, 22, 53, 33]])"
      ]
     },
     "execution_count": 36,
     "metadata": {},
     "output_type": "execute_result"
    }
   ],
   "source": [
    "u = np.array([[1, 1, 2, 4], [0, 3, 4, 1], [0, 0, 3, 1], [0, 0, 0, 4]])\n",
    "l = np.array([[1, 0, 0, 0], [2, 1, 0, 0], [3, 5, 1, 0], [4, 6, 7, 1]])\n",
    "l@u"
   ]
  },
  {
   "cell_type": "markdown",
   "id": "c58eb420",
   "metadata": {},
   "source": [
    "Получили исходную матрицу"
   ]
  },
  {
   "cell_type": "markdown",
   "id": "33faff85",
   "metadata": {},
   "source": [
    "__3*.__ Решите систему линейных уравнений методом $LU$-разложения:\n",
    "\n",
    "$$\\begin{cases}\n",
    "2x_{1}+x_{2}+3x_{3}=1 \\\\\n",
    "11x_{1}+7x_{2}+5x_{3}=-6 \\\\\n",
    "9x_{1}+8x_{2}+4x_{3}=-5\n",
    "\\end{cases}$$"
   ]
  },
  {
   "cell_type": "markdown",
   "id": "c2bfaea9",
   "metadata": {},
   "source": [
    "**Решение**"
   ]
  },
  {
   "cell_type": "code",
   "execution_count": 4,
   "id": "e6942e89",
   "metadata": {},
   "outputs": [
    {
     "data": {
      "text/plain": [
       "(array([[ 2,  1,  3],\n",
       "        [11,  7,  5],\n",
       "        [ 9,  8,  4]]),\n",
       " array([ 1, -6, -5]))"
      ]
     },
     "execution_count": 4,
     "metadata": {},
     "output_type": "execute_result"
    }
   ],
   "source": [
    "a = np.array([[2,1,3], [11,7,5], [9,8,4]])\n",
    "b = np.array([1,-6,-5])\n",
    "a, b"
   ]
  },
  {
   "cell_type": "markdown",
   "id": "c73432b9",
   "metadata": {},
   "source": [
    "Найдеём матрциы $U$ и $L$:"
   ]
  },
  {
   "cell_type": "code",
   "execution_count": 12,
   "id": "59e1d016",
   "metadata": {},
   "outputs": [
    {
     "name": "stdout",
     "output_type": "stream",
     "text": [
      "Матрица p: \n",
      "[[0. 0. 1.]\n",
      " [1. 0. 0.]\n",
      " [0. 1. 0.]]\n",
      "Матрица L:\n",
      "[[ 1.          0.          0.        ]\n",
      " [ 0.81818182  1.          0.        ]\n",
      " [ 0.18181818 -0.12        1.        ]]\n",
      "Матрица U:\n",
      "[[11.          7.          5.        ]\n",
      " [ 0.          2.27272727 -0.09090909]\n",
      " [ 0.          0.          2.08      ]]\n"
     ]
    }
   ],
   "source": [
    "p, l, u = scipy.linalg.lu(a)\n",
    "print(f'Матрица p: \\n{p}\\nМатрица L:\\n{l}\\nМатрица U:\\n{u}')"
   ]
  },
  {
   "cell_type": "markdown",
   "id": "aefd371e",
   "metadata": {},
   "source": [
    "Решим систему $Ly=b$:"
   ]
  },
  {
   "cell_type": "code",
   "execution_count": 14,
   "id": "6ecd50ea",
   "metadata": {},
   "outputs": [
    {
     "name": "stderr",
     "output_type": "stream",
     "text": [
      "C:\\Users\\User\\AppData\\Local\\Temp\\ipykernel_7528\\3031265191.py:3: DeprecationWarning: `np.float` is a deprecated alias for the builtin `float`. To silence this warning, use `float` by itself. Doing this will not modify any behavior and is safe. If you specifically wanted the numpy scalar type, use `np.float64` here.\n",
      "Deprecated in NumPy 1.20; for more details and guidance: https://numpy.org/devdocs/release/1.20.0-notes.html#deprecations\n",
      "  b_copy = (p.T@b).astype(np.float)\n"
     ]
    },
    {
     "data": {
      "text/plain": [
       "array([[-6.        ],\n",
       "       [-0.09090909],\n",
       "       [ 2.08      ]])"
      ]
     },
     "execution_count": 14,
     "metadata": {},
     "output_type": "execute_result"
    }
   ],
   "source": [
    "def y_search(l, b, p):\n",
    "    y_arr = np.array([0 for i in range(len(b))], dtype=float)\n",
    "    b_copy = (p.T@b).astype(np.float)\n",
    "    for i in range(len(b)):\n",
    "        for j in range(len(b)):\n",
    "            tot = (l[i][j] * y_arr[j])\n",
    "            b_copy[i] -= tot\n",
    "        y_arr[i] = b_copy[i] / l[i][i]\n",
    "    return y_arr.reshape(len(b), -1)\n",
    "\n",
    "y_arr = y_search(l, b, p)\n",
    "y_arr"
   ]
  },
  {
   "cell_type": "code",
   "execution_count": 9,
   "id": "de0387aa",
   "metadata": {},
   "outputs": [],
   "source": [
    "def x_search(u, y_arr):\n",
    "    x_arr = np.array([0 for i in range(len(y_arr))], dtype=float)\n",
    "    b_copy = y_arr.copy()\n",
    "    for i in range(len(y_arr)-1, -1, -1):\n",
    "        for j in range(len(y_arr)-1, -1, -1):\n",
    "            tot = (u[i][j] * x_arr[j])\n",
    "            b_copy[i] -= tot\n",
    "        x_arr[i] = b_copy[i] / u[i][i]\n",
    "    return x_arr.reshape(len(x_arr), -1)"
   ]
  },
  {
   "cell_type": "code",
   "execution_count": 16,
   "id": "109b8667",
   "metadata": {},
   "outputs": [
    {
     "data": {
      "text/plain": [
       "array([[-1.],\n",
       "       [ 0.],\n",
       "       [ 1.]])"
      ]
     },
     "execution_count": 16,
     "metadata": {},
     "output_type": "execute_result"
    }
   ],
   "source": [
    "x_arr = x_search(u, y_arr)\n",
    "x_arr"
   ]
  },
  {
   "cell_type": "markdown",
   "id": "dafeb4c0",
   "metadata": {},
   "source": [
    "$x_{1}=-1$,\n",
    "$x_{2}=0$,\n",
    "$x_{3}=1$."
   ]
  },
  {
   "cell_type": "markdown",
   "id": "4574818d",
   "metadata": {},
   "source": [
    "Проверим:"
   ]
  },
  {
   "cell_type": "markdown",
   "id": "76c02ccb",
   "metadata": {},
   "source": [
    "$$\\begin{cases}\n",
    "2\\cdot(-1)+0+3\\cdot1=1 \\\\\n",
    "11\\cdot(-1)+7\\cdot0+5\\cdot1=-6 \\\\\n",
    "9\\cdot(-1)+8\\cdot0+4\\cdot1=-5\n",
    "\\end{cases}$$"
   ]
  },
  {
   "cell_type": "markdown",
   "id": "4eb03c44",
   "metadata": {},
   "source": [
    "Верно."
   ]
  },
  {
   "cell_type": "markdown",
   "id": "be3f5b3f",
   "metadata": {},
   "source": [
    "__4*.__ Решите систему линейных уравнений методом Холецкого:\n",
    "\n",
    "$$\\begin{cases}\n",
    "81x_{1}-45x_{2}+45x_{3}=531 \\\\\n",
    "-45x_{1}+50x_{2}-15x_{3}=-460 \\\\\n",
    "45x_{1}-15x_{2}+38x_{3}=193\n",
    "\\end{cases}$$"
   ]
  },
  {
   "cell_type": "markdown",
   "id": "87af42b5",
   "metadata": {},
   "source": [
    "**Решение**"
   ]
  },
  {
   "cell_type": "code",
   "execution_count": 2,
   "id": "518d4331",
   "metadata": {},
   "outputs": [
    {
     "data": {
      "text/plain": [
       "(array([[ 81, -45,  45],\n",
       "        [-45,  50, -15],\n",
       "        [ 45, -15,  38]]),\n",
       " array([ 531, -460,  193]))"
      ]
     },
     "execution_count": 2,
     "metadata": {},
     "output_type": "execute_result"
    }
   ],
   "source": [
    "a = np.array([[81, -45, 45], [-45, 50, -15], [45, -15, 38]])\n",
    "b = np.array([531, -460, 193])\n",
    "a, b"
   ]
  },
  {
   "cell_type": "markdown",
   "id": "2f6bc328",
   "metadata": {},
   "source": [
    "Напишем функцию, для получения нижней треугольной матрицы $L$ по методу Холецкого:"
   ]
  },
  {
   "cell_type": "code",
   "execution_count": 4,
   "id": "25638fb0",
   "metadata": {},
   "outputs": [],
   "source": [
    "def choletsky_func(matrix):\n",
    "    l = np.zeros_like(matrix, dtype=float)\n",
    "    for i in range(len(matrix)):\n",
    "        for j in range(len(matrix)):\n",
    "            if j == i:\n",
    "                sum_sq = 0\n",
    "                for k in range(i):\n",
    "                    sum_sq += l[i][k] ** 2\n",
    "                l[i][i] = np.sqrt(matrix[i][i] - sum_sq)\n",
    "            elif j < i:\n",
    "                sum_mult = 0\n",
    "                for k in range(j):\n",
    "                    sum_mult += l[i][k] * l[j][k]\n",
    "                l[i][j] = (1 / l[j][j]) * (matrix[i][j] - sum_mult)\n",
    "            else:\n",
    "                l[i][j] = 0         \n",
    "    return l"
   ]
  },
  {
   "cell_type": "markdown",
   "id": "da249ce4",
   "metadata": {},
   "source": [
    "Найдём матрицу $L$:"
   ]
  },
  {
   "cell_type": "code",
   "execution_count": 5,
   "id": "94aa8b50",
   "metadata": {},
   "outputs": [
    {
     "data": {
      "text/plain": [
       "array([[ 9.,  0.,  0.],\n",
       "       [-5.,  5.,  0.],\n",
       "       [ 5.,  2.,  3.]])"
      ]
     },
     "execution_count": 5,
     "metadata": {},
     "output_type": "execute_result"
    }
   ],
   "source": [
    "l = choletsky_func(a)\n",
    "l"
   ]
  },
  {
   "cell_type": "markdown",
   "id": "7dc69d0d",
   "metadata": {},
   "source": [
    "Проверим, что $L\\cdot L^{T}=A$:"
   ]
  },
  {
   "cell_type": "code",
   "execution_count": 6,
   "id": "77eaede5",
   "metadata": {},
   "outputs": [
    {
     "data": {
      "text/plain": [
       "array([[ 81., -45.,  45.],\n",
       "       [-45.,  50., -15.],\n",
       "       [ 45., -15.,  38.]])"
      ]
     },
     "execution_count": 6,
     "metadata": {},
     "output_type": "execute_result"
    }
   ],
   "source": [
    "l@l.T"
   ]
  },
  {
   "cell_type": "code",
   "execution_count": 7,
   "id": "104af340",
   "metadata": {},
   "outputs": [
    {
     "data": {
      "text/plain": [
       "array([[ True,  True,  True],\n",
       "       [ True,  True,  True],\n",
       "       [ True,  True,  True]])"
      ]
     },
     "execution_count": 7,
     "metadata": {},
     "output_type": "execute_result"
    }
   ],
   "source": [
    "l@l.T == a"
   ]
  },
  {
   "cell_type": "markdown",
   "id": "8db0e52b",
   "metadata": {},
   "source": [
    "Решим систему $Ly=b$:"
   ]
  },
  {
   "cell_type": "code",
   "execution_count": 8,
   "id": "7d240934",
   "metadata": {},
   "outputs": [
    {
     "name": "stderr",
     "output_type": "stream",
     "text": [
      "C:\\Users\\User\\AppData\\Local\\Temp\\ipykernel_4960\\4050188632.py:3: DeprecationWarning: `np.float` is a deprecated alias for the builtin `float`. To silence this warning, use `float` by itself. Doing this will not modify any behavior and is safe. If you specifically wanted the numpy scalar type, use `np.float64` here.\n",
      "Deprecated in NumPy 1.20; for more details and guidance: https://numpy.org/devdocs/release/1.20.0-notes.html#deprecations\n",
      "  b_copy = b.astype(np.float).copy()\n"
     ]
    },
    {
     "data": {
      "text/plain": [
       "array([[ 59.],\n",
       "       [-33.],\n",
       "       [-12.]])"
      ]
     },
     "execution_count": 8,
     "metadata": {},
     "output_type": "execute_result"
    }
   ],
   "source": [
    "def choletsky_y_search(l, b):\n",
    "    y_arr = np.array([0 for i in range(len(b))], dtype=float)\n",
    "    b_copy = b.astype(np.float).copy()\n",
    "    for i in range(len(b)):\n",
    "        for j in range(len(b)):\n",
    "            total = (l[i][j] * y_arr[j])\n",
    "            b_copy[i] -= total\n",
    "        y_arr[i] = b_copy[i] / l[i][i]\n",
    "    return y_arr.reshape(len(b), -1)\n",
    "\n",
    "y_arr = choletsky_y_search(l, b)\n",
    "y_arr"
   ]
  },
  {
   "cell_type": "markdown",
   "id": "db346c43",
   "metadata": {},
   "source": [
    "Решим систему $L^{T}x=y$:"
   ]
  },
  {
   "cell_type": "code",
   "execution_count": 10,
   "id": "091c4955",
   "metadata": {},
   "outputs": [
    {
     "data": {
      "text/plain": [
       "array([[ 6.],\n",
       "       [-5.],\n",
       "       [-4.]])"
      ]
     },
     "execution_count": 10,
     "metadata": {},
     "output_type": "execute_result"
    }
   ],
   "source": [
    "x_arr = x_search(l.T, y_arr)\n",
    "x_arr"
   ]
  },
  {
   "cell_type": "markdown",
   "id": "837b5207",
   "metadata": {},
   "source": [
    "$x_{1}=6$,\n",
    "$x_{2}=-5$,\n",
    "$x_{3}=-4$."
   ]
  },
  {
   "cell_type": "markdown",
   "id": "36603298",
   "metadata": {},
   "source": [
    "Проверим:"
   ]
  },
  {
   "cell_type": "markdown",
   "id": "990f0cf4",
   "metadata": {},
   "source": [
    "$$\\begin{cases}\n",
    "81\\cdot6-45\\cdot(-5)+45\\cdot(-4)=531 \\\\\n",
    "-45\\cdot6+50\\cdot(-5)-15\\cdot(-4)=-460 \\\\\n",
    "45\\cdot6-15\\cdot(-5)+38\\cdot(-4)=193\n",
    "\\end{cases}$$"
   ]
  },
  {
   "cell_type": "markdown",
   "id": "6f63c029",
   "metadata": {},
   "source": [
    "Верно."
   ]
  }
 ],
 "metadata": {
  "kernelspec": {
   "display_name": "Python 3 (ipykernel)",
   "language": "python",
   "name": "python3"
  },
  "language_info": {
   "codemirror_mode": {
    "name": "ipython",
    "version": 3
   },
   "file_extension": ".py",
   "mimetype": "text/x-python",
   "name": "python",
   "nbconvert_exporter": "python",
   "pygments_lexer": "ipython3",
   "version": "3.9.12"
  }
 },
 "nbformat": 4,
 "nbformat_minor": 5
}
