{
 "cells": [
  {
   "cell_type": "markdown",
   "id": "ada9f7b5",
   "metadata": {},
   "source": [
    "## Матрицы и матричные операции. Часть 1"
   ]
  },
  {
   "cell_type": "code",
   "execution_count": 1,
   "id": "2a6f3201",
   "metadata": {},
   "outputs": [],
   "source": [
    "import numpy as np"
   ]
  },
  {
   "cell_type": "markdown",
   "id": "5c95de72",
   "metadata": {},
   "source": [
    "__1.__ Установите, какие произведения матриц $AB$ и $BA$ определены, и найдите размерности полученных матриц:\n",
    "\n",
    "   а) $A$ — матрица $4\\times 2$, $B$ — матрица $4\\times 2$;\n",
    "    \n",
    "   б) $A$ — матрица $2\\times 5$, $B$ — матрица $5\\times 3$;\n",
    "    \n",
    "   в) $A$ — матрица $8\\times 3$, $B$ — матрица $3\\times 8$;\n",
    "    \n",
    "   г) $A$ — квадратная матрица $4\\times 4$, $B$ — квадратная матрица $4\\times 4$."
   ]
  },
  {
   "cell_type": "markdown",
   "id": "efd3f91e",
   "metadata": {},
   "source": [
    "а) Число столбцов матрицы $A$ не равно числу строк матрицы $B$, следовательно, $A\\cdot B$ не определено. Число столбцов матрицы $B$ не равно числу строк матрицы $A$, следовательно, $B\\cdot A$ не определено. "
   ]
  },
  {
   "cell_type": "markdown",
   "id": "5b287383",
   "metadata": {},
   "source": [
    "б) $A\\cdot B$ определено, размерность полученной матрицы —  $2\\times 3$. $B\\cdot A$ не определено."
   ]
  },
  {
   "cell_type": "markdown",
   "id": "8682caa1",
   "metadata": {},
   "source": [
    "в) $A\\cdot B$ определено, размерность полученной матрицы —  $3\\times 3$. $B\\cdot A$ определено, размерность полученной матрицы — $8\\times 8$."
   ]
  },
  {
   "cell_type": "markdown",
   "id": "62030f3c",
   "metadata": {},
   "source": [
    "г) $A\\cdot B$ определено, размерность полученной матрицы —  $4\\times 4$. $B\\cdot A$ определено, размерность полученной матрицы — $4\\times 4$."
   ]
  },
  {
   "cell_type": "markdown",
   "id": "a326d6eb",
   "metadata": {},
   "source": [
    "__2.__ Найдите сумму и произведение матриц $A=\\begin{pmatrix}\n",
    "1 & -2\\\\ \n",
    "3 & 0\n",
    "\\end{pmatrix}$ и $B=\\begin{pmatrix}\n",
    "4 & -1\\\\ \n",
    "0 & 5\n",
    "\\end{pmatrix}.$"
   ]
  },
  {
   "cell_type": "markdown",
   "id": "53986ce7",
   "metadata": {},
   "source": [
    "$$A+B=\\begin{pmatrix}\n",
    "1 & -2\\\\ \n",
    "3 & 0\n",
    "\\end{pmatrix}+\\begin{pmatrix}\n",
    "4 & -1\\\\ \n",
    "0 & 5\n",
    "\\end{pmatrix}=\\begin{pmatrix}\n",
    "5 & -3\\\\ \n",
    "3 & 5\n",
    "\\end{pmatrix}$$"
   ]
  },
  {
   "cell_type": "markdown",
   "id": "2c381349",
   "metadata": {},
   "source": [
    "Проверим с помощью numpy:"
   ]
  },
  {
   "cell_type": "code",
   "execution_count": 2,
   "id": "d623cf98",
   "metadata": {},
   "outputs": [],
   "source": [
    "a = np.array([[1, -2], [3, 0]])\n",
    "b = np.array([[4, -1], [0, 5]])"
   ]
  },
  {
   "cell_type": "code",
   "execution_count": 3,
   "id": "fde69051",
   "metadata": {},
   "outputs": [
    {
     "data": {
      "text/plain": [
       "(array([[ 1, -2],\n",
       "        [ 3,  0]]),\n",
       " array([[ 4, -1],\n",
       "        [ 0,  5]]))"
      ]
     },
     "execution_count": 3,
     "metadata": {},
     "output_type": "execute_result"
    }
   ],
   "source": [
    "a, b"
   ]
  },
  {
   "cell_type": "code",
   "execution_count": 5,
   "id": "81b07196",
   "metadata": {},
   "outputs": [
    {
     "name": "stdout",
     "output_type": "stream",
     "text": [
      "Сумма матриц A и B\n",
      "[[ 5 -3]\n",
      " [ 3  5]]\n"
     ]
    }
   ],
   "source": [
    "print(f'Сумма матриц A и B\\n{a + b}')"
   ]
  },
  {
   "cell_type": "markdown",
   "id": "cf950b0c",
   "metadata": {},
   "source": [
    "$$A\\cdot B=\\begin{pmatrix}\n",
    "1 & -2\\\\ \n",
    "3 & 0\n",
    "\\end{pmatrix}+\\begin{pmatrix}\n",
    "4 & -1\\\\ \n",
    "0 & 5\n",
    "\\end{pmatrix}=\\begin{pmatrix}\n",
    "1\\cdot4+(-2)\\cdot0 & 1\\cdot(-1)+(-2)\\cdot5\\\\\n",
    "3\\cdot4+0\\cdot0 & 3\\cdot(-1)+0\\cdot5\n",
    "\\end{pmatrix}=\\begin{pmatrix}\n",
    "4 & -11\\\\\n",
    "12 & -3\n",
    "\\end{pmatrix}$$"
   ]
  },
  {
   "cell_type": "markdown",
   "id": "e930b8db",
   "metadata": {},
   "source": [
    "$$B\\cdot A=\\begin{pmatrix}\n",
    "4 & -1\\\\ \n",
    "0 & 5\n",
    "\\end{pmatrix}+\\begin{pmatrix}\n",
    "1 & -2\\\\ \n",
    "3 & 0\n",
    "\\end{pmatrix}=\\begin{pmatrix}\n",
    "4\\cdot1+(-1)\\cdot3 & 4\\cdot(-2)+(-1)\\cdot0\\\\\n",
    "0\\cdot1+5\\cdot3 & 0\\cdot(-2)+5\\cdot0\n",
    "\\end{pmatrix}=\\begin{pmatrix}\n",
    "1 & -8\\\\\n",
    "15 & 0\n",
    "\\end{pmatrix}$$"
   ]
  },
  {
   "cell_type": "markdown",
   "id": "1536bc3d",
   "metadata": {},
   "source": [
    "Проверим с помощью numpy:"
   ]
  },
  {
   "cell_type": "code",
   "execution_count": 6,
   "id": "47a00973",
   "metadata": {},
   "outputs": [
    {
     "name": "stdout",
     "output_type": "stream",
     "text": [
      "Произведение матриц A и B\n",
      "[[  4 -11]\n",
      " [ 12  -3]]\n"
     ]
    }
   ],
   "source": [
    "print(f'Произведение матриц A и B\\n{a @ b}')"
   ]
  },
  {
   "cell_type": "code",
   "execution_count": 7,
   "id": "375f0411",
   "metadata": {},
   "outputs": [
    {
     "name": "stdout",
     "output_type": "stream",
     "text": [
      "Произведение матриц B и A\n",
      "[[ 1 -8]\n",
      " [15  0]]\n"
     ]
    }
   ],
   "source": [
    "print(f'Произведение матриц B и A\\n{b @ a}')"
   ]
  },
  {
   "cell_type": "markdown",
   "id": "2f99dc1f",
   "metadata": {},
   "source": [
    "__3.__ Из закономерностей сложения и умножения матриц на число можно сделать вывод, что матрицы одного размера образуют линейное пространство. Вычислите линейную комбинацию $3A-2B+4C$ для матриц $A=\\begin{pmatrix}\n",
    "1 & 7\\\\ \n",
    "3 & -6\n",
    "\\end{pmatrix}$, $B=\\begin{pmatrix}\n",
    "0 & 5\\\\ \n",
    "2 & -1\n",
    "\\end{pmatrix}$, $C=\\begin{pmatrix}\n",
    "2 & -4\\\\ \n",
    "1 & 1\n",
    "\\end{pmatrix}.$"
   ]
  },
  {
   "cell_type": "markdown",
   "id": "991e8211",
   "metadata": {},
   "source": [
    "$3A=3\\cdot\\begin{pmatrix}\n",
    "1 & 7\\\\ \n",
    "3 & -6\n",
    "\\end{pmatrix}=\\begin{pmatrix}\n",
    "3 & 21\\\\\n",
    "9 & -18\n",
    "\\end{pmatrix}$"
   ]
  },
  {
   "cell_type": "markdown",
   "id": "c63bd849",
   "metadata": {},
   "source": [
    "$2B=2\\cdot\\begin{pmatrix}\n",
    "0 & 5\\\\ \n",
    "2 & -1\n",
    "\\end{pmatrix}=\\begin{pmatrix}\n",
    "0 & 10\\\\\n",
    "4 & -2\n",
    "\\end{pmatrix}$"
   ]
  },
  {
   "cell_type": "markdown",
   "id": "ad787ae6",
   "metadata": {},
   "source": [
    "$4C=4\\cdot\\begin{pmatrix}\n",
    "2 & -4\\\\ \n",
    "1 & 1\n",
    "\\end{pmatrix}=\\begin{pmatrix}\n",
    "8 & -16\\\\\n",
    "4 & 4\n",
    "\\end{pmatrix}$"
   ]
  },
  {
   "cell_type": "markdown",
   "id": "94ae462a",
   "metadata": {},
   "source": [
    "$3A-2B+4C=\\begin{pmatrix}\n",
    "3 & 21\\\\\n",
    "9 & -18\n",
    "\\end{pmatrix}-\\begin{pmatrix}\n",
    "0 & 10\\\\\n",
    "4 & -2\n",
    "\\end{pmatrix}+\\begin{pmatrix}\n",
    "8 & -16\\\\\n",
    "4 & 4\n",
    "\\end{pmatrix}=\\begin{pmatrix}\n",
    "11 & -5\\\\\n",
    "9 & -12\n",
    "\\end{pmatrix}$"
   ]
  },
  {
   "cell_type": "markdown",
   "id": "3f545f79",
   "metadata": {},
   "source": [
    "Проверим с помощью numpy:"
   ]
  },
  {
   "cell_type": "code",
   "execution_count": 9,
   "id": "2a041692",
   "metadata": {},
   "outputs": [],
   "source": [
    "a = np.array([[1, 7], [3, -6]])\n",
    "b = np.array([[0, 5], [2, -1]])\n",
    "c = np.array([[2, -4], [1, 1]])"
   ]
  },
  {
   "cell_type": "code",
   "execution_count": 10,
   "id": "2fcbdb34",
   "metadata": {},
   "outputs": [
    {
     "name": "stdout",
     "output_type": "stream",
     "text": [
      "Линейная комбинация 3A - 2B + 4C\n",
      "[[ 11  -5]\n",
      " [  9 -12]]\n"
     ]
    }
   ],
   "source": [
    "print(f'Линейная комбинация 3A - 2B + 4C\\n{3*a - 2*b + 4*c}')"
   ]
  },
  {
   "cell_type": "markdown",
   "id": "b8a4d5a8",
   "metadata": {},
   "source": [
    "__4.__ Дана матрица $A=\\begin{pmatrix}\n",
    "4 & 1\\\\ \n",
    "5 & -2\\\\ \n",
    "2 & 3\n",
    "\\end{pmatrix}$.\n",
    "Вычислите $AA^{T}$ и $A^{T}A$."
   ]
  },
  {
   "cell_type": "markdown",
   "id": "36eb9465",
   "metadata": {},
   "source": [
    "$A^{T}=\\begin{pmatrix}\n",
    "4 & 5 & 2\\\\\n",
    "1 & -2 & 3\n",
    "\\end{pmatrix}$"
   ]
  },
  {
   "cell_type": "markdown",
   "id": "faac2df8",
   "metadata": {},
   "source": [
    "$AA^{T}=\\begin{pmatrix}\n",
    "4 & 1\\\\ \n",
    "5 & -2\\\\ \n",
    "2 & 3\n",
    "\\end{pmatrix}\\cdot\\begin{pmatrix}\n",
    "4 & 5 & 2\\\\\n",
    "1 & -2 & 3\n",
    "\\end{pmatrix}=\\begin{pmatrix}\n",
    "4\\cdot4+1\\cdot1 & 4\\cdot5+1\\cdot(-2) & 4\\cdot2+1\\cdot3\\\\\n",
    "5\\cdot4+(-2)\\cdot1 & 5\\cdot5+(-2)\\cdot(-2) & 5\\cdot2+(-2)\\cdot3\\\\\n",
    "2\\cdot4+3\\cdot1 & 2\\cdot5+3\\cdot(-2) & 2\\cdot2+3\\cdot3\n",
    "\\end{pmatrix}=\\begin{pmatrix}\n",
    "17 & 18 & 11\\\\\n",
    "18 & 29 & 4\\\\\n",
    "11 & 4 & 13\n",
    "\\end{pmatrix}$"
   ]
  },
  {
   "cell_type": "markdown",
   "id": "9457b421",
   "metadata": {},
   "source": [
    "$A^{T}A=\\begin{pmatrix}\n",
    "4 & 5 & 2\\\\\n",
    "1 & -2 & 3\n",
    "\\end{pmatrix}\\cdot\\begin{pmatrix}\n",
    "4 & 1\\\\ \n",
    "5 & -2\\\\ \n",
    "2 & 3\n",
    "\\end{pmatrix}=\\begin{pmatrix}\n",
    "4\\cdot4+5\\cdot5+2\\cdot2 & 4\\cdot1+5\\cdot(-2)+2\\cdot3\\\\\n",
    "1\\cdot4+(-2)\\cdot5+3\\cdot2 & 1\\cdot1+(-2)\\cdot(-2)+3\\cdot3\n",
    "\\end{pmatrix}=\\begin{pmatrix}\n",
    "45 & 0\\\\\n",
    "0 & 14\n",
    "\\end{pmatrix}$"
   ]
  },
  {
   "cell_type": "markdown",
   "id": "b1b7e23e",
   "metadata": {},
   "source": [
    "Проверим с помощью numpy:"
   ]
  },
  {
   "cell_type": "code",
   "execution_count": 11,
   "id": "b0d01038",
   "metadata": {},
   "outputs": [],
   "source": [
    "a = np.array([[4, 1], [5, -2], [2, 3]])\n",
    "a_t = a.T"
   ]
  },
  {
   "cell_type": "code",
   "execution_count": 13,
   "id": "72b10c48",
   "metadata": {},
   "outputs": [
    {
     "data": {
      "text/plain": [
       "(array([[ 4,  1],\n",
       "        [ 5, -2],\n",
       "        [ 2,  3]]),\n",
       " array([[ 4,  5,  2],\n",
       "        [ 1, -2,  3]]))"
      ]
     },
     "execution_count": 13,
     "metadata": {},
     "output_type": "execute_result"
    }
   ],
   "source": [
    "a, a_t"
   ]
  },
  {
   "cell_type": "code",
   "execution_count": 14,
   "id": "aada4c42",
   "metadata": {},
   "outputs": [
    {
     "name": "stdout",
     "output_type": "stream",
     "text": [
      "Произведение матриц A и A_T\n",
      "[[17 18 11]\n",
      " [18 29  4]\n",
      " [11  4 13]]\n"
     ]
    }
   ],
   "source": [
    "print(f'Произведение матриц A и A_T\\n{a@a_t}')"
   ]
  },
  {
   "cell_type": "code",
   "execution_count": 15,
   "id": "aa8ec40b",
   "metadata": {},
   "outputs": [
    {
     "name": "stdout",
     "output_type": "stream",
     "text": [
      "Произведение матриц A_T и A\n",
      "[[45  0]\n",
      " [ 0 14]]\n"
     ]
    }
   ],
   "source": [
    "print(f'Произведение матриц A_T и A\\n{a_t@a}')"
   ]
  },
  {
   "cell_type": "markdown",
   "id": "14957caf",
   "metadata": {},
   "source": [
    "__5*.__ Напишите на Python функцию для перемножения двух произвольных матриц, не используя NumPy."
   ]
  },
  {
   "cell_type": "code",
   "execution_count": 12,
   "id": "b65ee232",
   "metadata": {},
   "outputs": [],
   "source": [
    "def multiplication_matrix(a, b):\n",
    "    if a.shape[1] == b.shape[0]:\n",
    "        result = []\n",
    "        temporary = []\n",
    "        s = 0\n",
    "        for i in range(a.shape[0]):\n",
    "            for j in range(b.shape[1]):\n",
    "                for k in range(b.shape[0]):\n",
    "                    s += a[i][k] * b[k][j]\n",
    "                temporary.append(s)\n",
    "                s = 0\n",
    "            result.append(temporary)\n",
    "            temporary = []\n",
    "            return np.array(result)\n",
    "    else:\n",
    "        print('Произведение матриц таких размерностей не определено.')"
   ]
  },
  {
   "cell_type": "code",
   "execution_count": 16,
   "id": "b67836f7",
   "metadata": {},
   "outputs": [
    {
     "data": {
      "text/plain": [
       "(array([[ 1, -2],\n",
       "        [ 3,  0]]),\n",
       " array([[ 4, -1],\n",
       "        [ 0,  5]]))"
      ]
     },
     "execution_count": 16,
     "metadata": {},
     "output_type": "execute_result"
    }
   ],
   "source": [
    "a = np.array([[1, -2], [3, 0]])\n",
    "b = np.array([[4, -1], [0, 5]])\n",
    "a, b"
   ]
  },
  {
   "cell_type": "code",
   "execution_count": 17,
   "id": "ddfb1ecb",
   "metadata": {},
   "outputs": [
    {
     "data": {
      "text/plain": [
       "array([[  4, -11]])"
      ]
     },
     "execution_count": 17,
     "metadata": {},
     "output_type": "execute_result"
    }
   ],
   "source": [
    "c = multiplication_matrix(a, b)\n",
    "c"
   ]
  },
  {
   "cell_type": "code",
   "execution_count": 18,
   "id": "fa6474c1",
   "metadata": {},
   "outputs": [
    {
     "data": {
      "text/plain": [
       "array([[  4, -11],\n",
       "       [ 12,  -3]])"
      ]
     },
     "execution_count": 18,
     "metadata": {},
     "output_type": "execute_result"
    }
   ],
   "source": [
    "c_np = a @ b\n",
    "c_np"
   ]
  },
  {
   "cell_type": "markdown",
   "id": "8e16a6bd",
   "metadata": {},
   "source": [
    "## Матрицы и матричные операции. Часть 2"
   ]
  },
  {
   "cell_type": "markdown",
   "id": "7e26a5e2",
   "metadata": {},
   "source": [
    "__1.__ Вычислите определитель:\n",
    "\n",
    "   a)\n",
    "\n",
    "$$\\begin{vmatrix}\n",
    "sinx & -cosx\\\\ \n",
    "cosx & sinx\n",
    "\\end{vmatrix};$$\n",
    "\n",
    "   б)\n",
    "    \n",
    "$$\\begin{vmatrix}\n",
    "4 & 2 & 3\\\\ \n",
    "0 & 5 & 1\\\\ \n",
    "0 & 0 & 9\n",
    "\\end{vmatrix};$$\n",
    "    \n",
    "   в)\n",
    "\n",
    "$$\\begin{vmatrix}\n",
    "1 & 2 & 3\\\\ \n",
    "4 & 5 & 6\\\\ \n",
    "7 & 8 & 9\n",
    "\\end{vmatrix}.$$"
   ]
  },
  {
   "cell_type": "markdown",
   "id": "b6e8dfe6",
   "metadata": {},
   "source": [
    "__Решение__"
   ]
  },
  {
   "cell_type": "markdown",
   "id": "be5ae20e",
   "metadata": {},
   "source": [
    "а) $$\\begin{vmatrix}\n",
    "sinx & -cosx\\\\ \n",
    "cosx & sinx\n",
    "\\end{vmatrix}=sinx\\cdot sinx-cosx\\cdot(-cosx)=sin^{2}x+cos^{2}x=1$$"
   ]
  },
  {
   "cell_type": "markdown",
   "id": "86d93ea1",
   "metadata": {},
   "source": [
    "б) $$\\begin{vmatrix}\n",
    "4 & 2 & 3\\\\ \n",
    "0 & 5 & 1\\\\ \n",
    "0 & 0 & 9\n",
    "\\end{vmatrix}=4\\cdot5\\cdot9=180$$"
   ]
  },
  {
   "cell_type": "markdown",
   "id": "fadfbbdd",
   "metadata": {},
   "source": [
    "Проверим с помощью numpy:"
   ]
  },
  {
   "cell_type": "code",
   "execution_count": 2,
   "id": "e3b59f2b",
   "metadata": {},
   "outputs": [
    {
     "data": {
      "text/plain": [
       "array([[4, 2, 3],\n",
       "       [0, 5, 1],\n",
       "       [0, 0, 9]])"
      ]
     },
     "execution_count": 2,
     "metadata": {},
     "output_type": "execute_result"
    }
   ],
   "source": [
    "a = np.array([[4, 2, 3], [0, 5, 1], [0, 0, 9]])\n",
    "a"
   ]
  },
  {
   "cell_type": "code",
   "execution_count": 4,
   "id": "90edcc68",
   "metadata": {},
   "outputs": [
    {
     "name": "stdout",
     "output_type": "stream",
     "text": [
      "Определитель матрицы A:\n",
      "180\n"
     ]
    }
   ],
   "source": [
    "print(f'Определитель матрицы A:\\n{np.linalg.det(a):.0f}')"
   ]
  },
  {
   "cell_type": "markdown",
   "id": "58fd1bb6",
   "metadata": {},
   "source": [
    "в) $$\\begin{vmatrix}\n",
    "1 & 2 & 3\\\\ \n",
    "4 & 5 & 6\\\\ \n",
    "7 & 8 & 9\n",
    "\\end{vmatrix}=1\\begin{vmatrix}\n",
    "5 & 6\\\\\n",
    "8 & 9\n",
    "\\end{vmatrix}-2\\begin{vmatrix}\n",
    "4 & 6\\\\\n",
    "7 & 9\n",
    "\\end{vmatrix}+3\\begin{vmatrix}\n",
    "4 & 5\\\\\n",
    "7 & 8\n",
    "\\end{vmatrix}=1\\cdot(5\\cdot9-8\\cdot6)-2\\cdot(4\\cdot9-7\\cdot6)+3\\cdot(4\\cdot8-7\\cdot5)=0$$"
   ]
  },
  {
   "cell_type": "markdown",
   "id": "afb9a6a4",
   "metadata": {},
   "source": [
    "Проверим с помощью numpy:"
   ]
  },
  {
   "cell_type": "code",
   "execution_count": 5,
   "id": "219fbd64",
   "metadata": {},
   "outputs": [
    {
     "data": {
      "text/plain": [
       "array([[1, 2, 3],\n",
       "       [4, 5, 6],\n",
       "       [7, 8, 9]])"
      ]
     },
     "execution_count": 5,
     "metadata": {},
     "output_type": "execute_result"
    }
   ],
   "source": [
    "a = np.array([[1, 2, 3], [4, 5, 6], [7, 8, 9]])\n",
    "a"
   ]
  },
  {
   "cell_type": "code",
   "execution_count": 6,
   "id": "08606eb9",
   "metadata": {},
   "outputs": [
    {
     "name": "stdout",
     "output_type": "stream",
     "text": [
      "Определитель матрицы A:\n",
      "0\n"
     ]
    }
   ],
   "source": [
    "print(f'Определитель матрицы A:\\n{np.linalg.det(a):.0f}')"
   ]
  },
  {
   "cell_type": "markdown",
   "id": "cd1eb4cb",
   "metadata": {},
   "source": [
    "__2.__ Определитель матрицы $A$ равен $4$. Найдите:\n",
    "\n",
    "   а) $det(A^{2})$;\n",
    "    \n",
    "   б) $det(A^{T})$;\n",
    "    \n",
    "   в) $det(2A)$."
   ]
  },
  {
   "cell_type": "markdown",
   "id": "93e9621e",
   "metadata": {},
   "source": [
    "__Решение__"
   ]
  },
  {
   "cell_type": "markdown",
   "id": "7cbbb415",
   "metadata": {},
   "source": [
    "а) используем свойство определителя: $det(AB)=detA\\cdot detB.$\n",
    "\n",
    "$det(A^{2})=det(AA)=detA\\cdot detA=4\\cdot4=16$\n"
   ]
  },
  {
   "cell_type": "markdown",
   "id": "4595c06d",
   "metadata": {},
   "source": [
    "б) используем следующее свойство определителя: $detA^{T}=detA.$\n",
    "\n",
    "$det(A^{T})=4$"
   ]
  },
  {
   "cell_type": "markdown",
   "id": "91685759",
   "metadata": {},
   "source": [
    "в) используем свойство определителя: умножение строки или столбца матрицы на число $\\lambda$ приведёт к умножению определителя матрицы на то же число."
   ]
  },
  {
   "cell_type": "markdown",
   "id": "e41cbcd8",
   "metadata": {},
   "source": [
    "$det(2A)=2^{n}\\cdot detA=2^{n}\\cdot4$, где $n$ — порядок матрицы $A$."
   ]
  },
  {
   "cell_type": "markdown",
   "id": "afee98ba",
   "metadata": {},
   "source": [
    "__3.__  Докажите, что матрица:\n",
    "\n",
    "$\\begin{pmatrix}\n",
    "-2 & 7 & -3\\\\ \n",
    "4 & -14 & 6\\\\ \n",
    "-3 & 7 & 13\n",
    "\\end{pmatrix}$\n",
    "   \n",
    "вырожденная."
   ]
  },
  {
   "cell_type": "markdown",
   "id": "689cc638",
   "metadata": {},
   "source": [
    "__Решение__"
   ]
  },
  {
   "cell_type": "markdown",
   "id": "b8eedcec",
   "metadata": {},
   "source": [
    "Так как $\\begin{pmatrix}\n",
    "4 & -14 & 6\n",
    "\\end{pmatrix}=-2\\cdot\\begin{pmatrix}\n",
    "-2 & 7 & -3\n",
    "\\end{pmatrix}$, то две строки матрицы линейно зависимы. Согласно свойству определителя, определитель данной матрицы равен 0. Т. е. матрица вырожденная."
   ]
  },
  {
   "cell_type": "markdown",
   "id": "21ffbe05",
   "metadata": {},
   "source": [
    "Проверим с помощью numpy:"
   ]
  },
  {
   "cell_type": "code",
   "execution_count": 7,
   "id": "341634c4",
   "metadata": {},
   "outputs": [
    {
     "data": {
      "text/plain": [
       "array([[ -2,   7,  -3],\n",
       "       [  4, -14,   6],\n",
       "       [ -3,   7,  13]])"
      ]
     },
     "execution_count": 7,
     "metadata": {},
     "output_type": "execute_result"
    }
   ],
   "source": [
    "a = np.array([[-2, 7, -3], [4, -14, 6], [-3, 7, 13]])\n",
    "a"
   ]
  },
  {
   "cell_type": "code",
   "execution_count": 8,
   "id": "2535277c",
   "metadata": {},
   "outputs": [
    {
     "name": "stdout",
     "output_type": "stream",
     "text": [
      "Определитель матрицы A:\n",
      "0\n"
     ]
    }
   ],
   "source": [
    "print(f'Определитель матрицы A:\\n{np.linalg.det(a):.0f}')"
   ]
  },
  {
   "cell_type": "markdown",
   "id": "858e1097",
   "metadata": {},
   "source": [
    "__4.__ Найдите ранг матрицы:\n",
    "\n",
    "   а) $\\begin{pmatrix}\n",
    "1 & 2 & 3\\\\ \n",
    "1 & 1 & 1\\\\ \n",
    "2 & 3 & 4\n",
    "\\end{pmatrix};$\n",
    "\n",
    "   б) $\\begin{pmatrix}\n",
    "0 & 0 & 2 & 1\\\\ \n",
    "0 & 0 & 2 & 2\\\\ \n",
    "0 & 0 & 4 & 3\\\\ \n",
    "2 & 3 & 5 & 6\n",
    "\\end{pmatrix}.$"
   ]
  },
  {
   "cell_type": "markdown",
   "id": "f0ca68b1",
   "metadata": {},
   "source": [
    "__Решение__"
   ]
  },
  {
   "cell_type": "markdown",
   "id": "bf178dee",
   "metadata": {},
   "source": [
    "а) Третья строка является суммой первой и второй, значит, её можно отбросить:"
   ]
  },
  {
   "cell_type": "markdown",
   "id": "7a922cd3",
   "metadata": {},
   "source": [
    "$\\begin{pmatrix}\n",
    "1 & 2 & 3\\\\ \n",
    "1 & 1 & 1\n",
    "\\end{pmatrix}$"
   ]
  },
  {
   "cell_type": "markdown",
   "id": "f36b94c6",
   "metadata": {},
   "source": [
    "Вычтем из второй строки первую:"
   ]
  },
  {
   "cell_type": "markdown",
   "id": "5a0d49bc",
   "metadata": {},
   "source": [
    "$\\begin{pmatrix}\n",
    "1 & 2 & 3\\\\ \n",
    "0 & -1 & -2\n",
    "\\end{pmatrix}$"
   ]
  },
  {
   "cell_type": "markdown",
   "id": "fb240f0b",
   "metadata": {},
   "source": [
    "Мы привели матрицу к треугольному виду, ранг матрицы будет равен меньшей из размерностей матрицы. Таким образом, ранг матрицы равен 2."
   ]
  },
  {
   "cell_type": "markdown",
   "id": "0c107c6a",
   "metadata": {},
   "source": [
    "Проверим с помщью numpy:"
   ]
  },
  {
   "cell_type": "code",
   "execution_count": 2,
   "id": "28b15809",
   "metadata": {},
   "outputs": [
    {
     "data": {
      "text/plain": [
       "array([[1, 2, 3],\n",
       "       [1, 1, 1],\n",
       "       [2, 3, 4]])"
      ]
     },
     "execution_count": 2,
     "metadata": {},
     "output_type": "execute_result"
    }
   ],
   "source": [
    "a = np.array([[1, 2, 3], [1, 1, 1,], [2, 3, 4]])\n",
    "a"
   ]
  },
  {
   "cell_type": "code",
   "execution_count": 5,
   "id": "2fe86392",
   "metadata": {},
   "outputs": [
    {
     "name": "stdout",
     "output_type": "stream",
     "text": [
      "Ранг матрицы A: 2\n"
     ]
    }
   ],
   "source": [
    "a_r = np.linalg.matrix_rank(a)\n",
    "print(f'Ранг матрицы A: {a_r}')"
   ]
  },
  {
   "cell_type": "markdown",
   "id": "da6571c8",
   "metadata": {},
   "source": [
    "б) Третья строка является суммой первой и второй, значит, её можно отбросить:"
   ]
  },
  {
   "cell_type": "markdown",
   "id": "1cd67892",
   "metadata": {},
   "source": [
    "$\\begin{pmatrix}\n",
    "0 & 0 & 2 & 1\\\\ \n",
    "0 & 0 & 2 & 2\\\\  \n",
    "2 & 3 & 5 & 6\n",
    "\\end{pmatrix}$"
   ]
  },
  {
   "cell_type": "markdown",
   "id": "4251c08a",
   "metadata": {},
   "source": [
    "Вычтем вторую строку из первой:"
   ]
  },
  {
   "cell_type": "markdown",
   "id": "c7efcc61",
   "metadata": {},
   "source": [
    "$\\begin{pmatrix}\n",
    "0 & 0 & 0 & -1\\\\ \n",
    "0 & 0 & 2 & 2\\\\  \n",
    "2 & 3 & 5 & 6\n",
    "\\end{pmatrix}$"
   ]
  },
  {
   "cell_type": "markdown",
   "id": "e0c1d8a0",
   "metadata": {},
   "source": [
    "Второй столбец можно получить, умножив первый на $3/2$, следовательно, второй столбец можно отбросить:"
   ]
  },
  {
   "cell_type": "markdown",
   "id": "3e24224a",
   "metadata": {},
   "source": [
    "$\\begin{pmatrix}\n",
    "0  & 0 & -1\\\\ \n",
    "0  & 2 & 2\\\\  \n",
    "2  & 5 & 6\n",
    "\\end{pmatrix}$"
   ]
  },
  {
   "cell_type": "markdown",
   "id": "8147d96f",
   "metadata": {},
   "source": [
    "Теперь поменяем местами первую и третью строки:"
   ]
  },
  {
   "cell_type": "markdown",
   "id": "62020840",
   "metadata": {},
   "source": [
    "$\\begin{pmatrix}\n",
    "2  & 5 & 6\\\\ \n",
    "0  & 2 & 2\\\\  \n",
    "0  & 0 & -1\n",
    "\\end{pmatrix}$"
   ]
  },
  {
   "cell_type": "markdown",
   "id": "b106dde0",
   "metadata": {},
   "source": [
    "Ранг матрицы равен 3."
   ]
  },
  {
   "cell_type": "markdown",
   "id": "915a88ac",
   "metadata": {},
   "source": [
    "Проверим с помощью numpy:"
   ]
  },
  {
   "cell_type": "code",
   "execution_count": 6,
   "id": "1e243052",
   "metadata": {},
   "outputs": [
    {
     "data": {
      "text/plain": [
       "array([[0, 0, 2, 1],\n",
       "       [0, 0, 2, 2],\n",
       "       [0, 0, 4, 3],\n",
       "       [2, 3, 5, 6]])"
      ]
     },
     "execution_count": 6,
     "metadata": {},
     "output_type": "execute_result"
    }
   ],
   "source": [
    "a = np.array([[0, 0, 2, 1], [0, 0, 2, 2], [0, 0, 4, 3], [2, 3, 5, 6]])\n",
    "a"
   ]
  },
  {
   "cell_type": "code",
   "execution_count": 7,
   "id": "c1d9816d",
   "metadata": {},
   "outputs": [
    {
     "name": "stdout",
     "output_type": "stream",
     "text": [
      "Ранг матрицы A: 3\n"
     ]
    }
   ],
   "source": [
    "a_r = np.linalg.matrix_rank(a)\n",
    "print(f'Ранг матрицы A: {a_r}')"
   ]
  }
 ],
 "metadata": {
  "kernelspec": {
   "display_name": "Python 3 (ipykernel)",
   "language": "python",
   "name": "python3"
  },
  "language_info": {
   "codemirror_mode": {
    "name": "ipython",
    "version": 3
   },
   "file_extension": ".py",
   "mimetype": "text/x-python",
   "name": "python",
   "nbconvert_exporter": "python",
   "pygments_lexer": "ipython3",
   "version": "3.9.12"
  }
 },
 "nbformat": 4,
 "nbformat_minor": 5
}
