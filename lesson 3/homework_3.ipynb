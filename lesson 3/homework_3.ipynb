{
 "cells": [
  {
   "cell_type": "markdown",
   "id": "07a20b2e",
   "metadata": {},
   "source": [
    "## Линейные преобразования"
   ]
  },
  {
   "cell_type": "markdown",
   "id": "d8e22a49",
   "metadata": {},
   "source": [
    "__1.__ Найдите собственные векторы и собственные значения для линейного оператора, заданного матрицей:\n",
    "\n",
    "$$A=\\begin{pmatrix}\n",
    "-1 & -6\\\\ \n",
    "2 & 6\n",
    "\\end{pmatrix}.$$"
   ]
  },
  {
   "cell_type": "markdown",
   "id": "7195840f",
   "metadata": {},
   "source": [
    "__Решение__"
   ]
  },
  {
   "cell_type": "markdown",
   "id": "b2b130a6",
   "metadata": {},
   "source": [
    "Составим характеристическое уравнение и решим его:"
   ]
  },
  {
   "cell_type": "markdown",
   "id": "b5eb8943",
   "metadata": {},
   "source": [
    "$$\\begin{vmatrix}\n",
    "-1-\\lambda & -6\\\\ \n",
    "2 & 6-\\lambda\n",
    "\\end{vmatrix} = 0,$$\n",
    "\n",
    "$$(-1-\\lambda)(6-\\lambda)-2\\cdot(-6)=0,$$\n",
    "\n",
    "$$\\lambda^{2}-5\\lambda+12=0,$$\n",
    "\n",
    "$$\\lambda_{1}=3, \\lambda_{2}=2.$$"
   ]
  },
  {
   "cell_type": "markdown",
   "id": "8a8f7b6f",
   "metadata": {},
   "source": [
    "Собственные значения для линейного оператора: $\\lambda_{1}=3, \\lambda_{2}=2.$"
   ]
  },
  {
   "cell_type": "markdown",
   "id": "939ceb45",
   "metadata": {},
   "source": [
    "Найдём собтвенные векторы, подставив полученные собственные значения в выражение $\\textbf{A}x=\\lambda x$:"
   ]
  },
  {
   "cell_type": "markdown",
   "id": "4d6a37a1",
   "metadata": {},
   "source": [
    "1)$$\\begin{pmatrix}\n",
    "-1 & -6\\\\ \n",
    "2 & 6\n",
    "\\end{pmatrix}\n",
    "\\begin{pmatrix}\n",
    "x_{1}\\\\ \n",
    "x_{2}\n",
    "\\end{pmatrix}=\n",
    "3\n",
    "\\begin{pmatrix}\n",
    "x_{1}\\\\ \n",
    "x_{2}\n",
    "\\end{pmatrix}.\n",
    "$$"
   ]
  },
  {
   "cell_type": "markdown",
   "id": "7766073a",
   "metadata": {},
   "source": [
    "$$\\begin{cases}\n",
    "-x_{1}-6x_{2}= 3x_{1}, \\\\\n",
    "2x_{1}+6x_{2}= 3x_{2}.\n",
    "\\end{cases}$$ "
   ]
  },
  {
   "cell_type": "markdown",
   "id": "accd8a48",
   "metadata": {},
   "source": [
    "$$\\begin{cases}\n",
    "-4x_{1}-6x_{2}= 0, \\\\\n",
    "2x_{1}+3x_{2}= 0.\n",
    "\\end{cases}$$ "
   ]
  },
  {
   "cell_type": "markdown",
   "id": "423f533a",
   "metadata": {},
   "source": [
    "$$\\begin{cases}\n",
    "x_{1}=-\\frac{3}{2}x_{2}, \\\\\n",
    "x_{1} = -\\frac{3}{2}x_{2}.\n",
    "\\end{cases}$$"
   ]
  },
  {
   "cell_type": "markdown",
   "id": "b3263551",
   "metadata": {},
   "source": [
    "Получили бесконечное множество коллинеарных векторов."
   ]
  },
  {
   "cell_type": "markdown",
   "id": "6e551d96",
   "metadata": {},
   "source": [
    "Найдём одно частное решение:"
   ]
  },
  {
   "cell_type": "markdown",
   "id": "a6d9afe6",
   "metadata": {},
   "source": [
    "Пусть $x_{2}=-2$, $x_{1}=3.$"
   ]
  },
  {
   "cell_type": "markdown",
   "id": "e4dcd90f",
   "metadata": {},
   "source": [
    "Проверим:"
   ]
  },
  {
   "cell_type": "markdown",
   "id": "ac616495",
   "metadata": {},
   "source": [
    "$\\begin{cases}\n",
    "-4\\cdot3-6\\cdot(-2)= 0, \\\\\n",
    "2\\cdot3+3\\cdot(-2)= 0.\n",
    "\\end{cases}$ "
   ]
  },
  {
   "cell_type": "markdown",
   "id": "9c39cabc",
   "metadata": {},
   "source": [
    "Верно."
   ]
  },
  {
   "cell_type": "markdown",
   "id": "6e9b72ba",
   "metadata": {},
   "source": [
    "$x=\\begin{pmatrix}\n",
    "3\\\\\n",
    "-2\n",
    "\\end{pmatrix}$"
   ]
  },
  {
   "cell_type": "markdown",
   "id": "b42578fc",
   "metadata": {},
   "source": [
    "2)$$\\begin{pmatrix}\n",
    "-1 & -6\\\\ \n",
    "2 & 6\n",
    "\\end{pmatrix}\n",
    "\\begin{pmatrix}\n",
    "x_{1}\\\\ \n",
    "x_{2}\n",
    "\\end{pmatrix}=\n",
    "2\n",
    "\\begin{pmatrix}\n",
    "x_{1}\\\\ \n",
    "x_{2}\n",
    "\\end{pmatrix}.\n",
    "$$"
   ]
  },
  {
   "cell_type": "markdown",
   "id": "b7e77d3d",
   "metadata": {},
   "source": [
    "$$\\begin{cases}\n",
    "-x_{1}-6x_{2}= 2x_{1}, \\\\\n",
    "2x_{1}+6x_{2}= 2x_{2}.\n",
    "\\end{cases}$$ "
   ]
  },
  {
   "cell_type": "markdown",
   "id": "c453051a",
   "metadata": {},
   "source": [
    "$$\\begin{cases}\n",
    "-3x_{1}-6x_{2}= 0, \\\\\n",
    "2x_{1}+4x_{2}= 0.\n",
    "\\end{cases}$$ "
   ]
  },
  {
   "cell_type": "markdown",
   "id": "0dd638e7",
   "metadata": {},
   "source": [
    "$$\\begin{cases}\n",
    "x_{1}=-2x_{2}, \\\\\n",
    "x_{1} = -2x_{2}.\n",
    "\\end{cases}$$"
   ]
  },
  {
   "cell_type": "markdown",
   "id": "1171cf55",
   "metadata": {},
   "source": [
    "Получили бесконечное множество коллинеарных векторов."
   ]
  },
  {
   "cell_type": "markdown",
   "id": "7a735ac9",
   "metadata": {},
   "source": [
    "Найдём одно частное решение:"
   ]
  },
  {
   "cell_type": "markdown",
   "id": "ba3ef228",
   "metadata": {},
   "source": [
    "Пусть $x_{2}=-1$, $x_{1}=2.$"
   ]
  },
  {
   "cell_type": "markdown",
   "id": "add0ba54",
   "metadata": {},
   "source": [
    "Проверим:"
   ]
  },
  {
   "cell_type": "markdown",
   "id": "b2e67aab",
   "metadata": {},
   "source": [
    "$\\begin{cases}\n",
    "-3\\cdot2-6\\cdot(-1)= 0, \\\\\n",
    "2\\cdot2+4\\cdot(-1)= 0.\n",
    "\\end{cases}$ "
   ]
  },
  {
   "cell_type": "markdown",
   "id": "7aeece02",
   "metadata": {},
   "source": [
    "Верно."
   ]
  },
  {
   "cell_type": "markdown",
   "id": "fccf0d00",
   "metadata": {},
   "source": [
    "$x=\\begin{pmatrix}\n",
    "2\\\\\n",
    "-1\n",
    "\\end{pmatrix}$"
   ]
  },
  {
   "cell_type": "markdown",
   "id": "5a867112",
   "metadata": {},
   "source": [
    "__2.__ Дан оператор поворота на 180 градусов, задаваемый матрицей:\n",
    "\n",
    "$$A=\\begin{pmatrix}\n",
    "-1 & 0\\\\ \n",
    "0 & -1\n",
    "\\end{pmatrix}.$$\n",
    "\n",
    "Покажите, что __любой__ вектор считается для него собственным."
   ]
  },
  {
   "cell_type": "markdown",
   "id": "d20213e7",
   "metadata": {},
   "source": [
    "__Решение__"
   ]
  },
  {
   "cell_type": "markdown",
   "id": "34eda1c5",
   "metadata": {},
   "source": [
    "$$\\begin{pmatrix}\n",
    "-1 & 0\\\\ \n",
    "0 & -1\n",
    "\\end{pmatrix}\n",
    "\\begin{pmatrix}\n",
    "x_{1}\\\\ \n",
    "x_{2}\n",
    "\\end{pmatrix}=\n",
    "\\lambda\n",
    "\\begin{pmatrix}\n",
    "x_{1}\\\\ \n",
    "x_{2}\n",
    "\\end{pmatrix}.\n",
    "$$"
   ]
  },
  {
   "cell_type": "markdown",
   "id": "d1b3279f",
   "metadata": {},
   "source": [
    "$$\\begin{cases}\n",
    "-x_{1}= \\lambda x_{1}, \\\\\n",
    "-x_{2}= \\lambda x_{2}.\n",
    "\\end{cases}$$ "
   ]
  },
  {
   "cell_type": "markdown",
   "id": "81474b90",
   "metadata": {},
   "source": [
    "$$\\lambda=-1.$$"
   ]
  },
  {
   "cell_type": "markdown",
   "id": "d098f307",
   "metadata": {},
   "source": [
    "Решение не зависит от $x_{1}$ и $x_{2}$, следовательно, любой вектор будет считаться собственным."
   ]
  },
  {
   "cell_type": "markdown",
   "id": "b475e3f3",
   "metadata": {},
   "source": [
    "__3.__ Пусть линейный оператор задан матрицей:\n",
    "\n",
    "$$A=\\begin{pmatrix}\n",
    "1 & 1\\\\ \n",
    "-1 & 3\n",
    "\\end{pmatrix}.$$\n",
    "\n",
    "Установите, считается ли вектор $x=(1,1)$ собственным вектором этого линейного оператора."
   ]
  },
  {
   "cell_type": "markdown",
   "id": "7e7a8333",
   "metadata": {},
   "source": [
    "__Решение__"
   ]
  },
  {
   "cell_type": "markdown",
   "id": "95e8b441",
   "metadata": {},
   "source": [
    "Предположим, что вектор $x$ считается собственным вектором заданного линейного оператора, тогда должно существовать некоторое вещественное число $\\lambda$, при котором:"
   ]
  },
  {
   "cell_type": "markdown",
   "id": "e9bcc877",
   "metadata": {},
   "source": [
    "$$\\begin{pmatrix}\n",
    "1 & 1\\\\ \n",
    "-1 & 3\n",
    "\\end{pmatrix}\n",
    "\\begin{pmatrix}\n",
    "1\\\\ \n",
    "1 \n",
    "\\end{pmatrix}=\n",
    "\\lambda\n",
    "\\begin{pmatrix}\n",
    "1\\\\ \n",
    "1\n",
    "\\end{pmatrix}.\n",
    "$$\n"
   ]
  },
  {
   "cell_type": "markdown",
   "id": "df270b6f",
   "metadata": {},
   "source": [
    "$$\\begin{cases}\n",
    "1+1=1\\cdot\\lambda \\\\ \n",
    "-1+3 = 1\\cdot \\lambda\n",
    "\\end{cases}\n",
    "\\Rightarrow\n",
    "\\begin{cases}\n",
    "\\lambda=2\\\\ \n",
    "\\lambda=2\n",
    "\\end{cases}.$$\n"
   ]
  },
  {
   "cell_type": "markdown",
   "id": "8efdf7d8",
   "metadata": {},
   "source": [
    "Вектор $x=(1,1)$ является собственным вектором этого линейного оператора"
   ]
  },
  {
   "cell_type": "markdown",
   "id": "cb66973c",
   "metadata": {},
   "source": [
    "**4.** Пусть линейный оператор задан матрицей:\n",
    "\n",
    "$$A=\\begin{pmatrix} 0 & 3 & 0\\\\ 3 & 0 & 0\\\\ 0 & 0 & 3 \\end{pmatrix}.$$\n",
    "\n",
    "Установите, считается ли вектор $x=(3, -3, -4)$ собственным вектором этого линейного оператора."
   ]
  },
  {
   "cell_type": "markdown",
   "id": "d6b910c2",
   "metadata": {},
   "source": [
    "**Решение**"
   ]
  },
  {
   "cell_type": "markdown",
   "id": "0b49ee6d",
   "metadata": {},
   "source": [
    "Предположим, что вектор $x$ считается собственным вектором заданного линейного оператора, тогда должно существовать некоторое вещественное число $\\lambda$, при котором:"
   ]
  },
  {
   "cell_type": "markdown",
   "id": "cec59edc",
   "metadata": {},
   "source": [
    "$$\\begin{pmatrix}\n",
    "0 & 3 & 0\\\\ \n",
    "3 & 0 & 0\\\\\n",
    "0 & 0 & 3\n",
    "\\end{pmatrix}\n",
    "\\begin{pmatrix}\n",
    "3\\\\\n",
    "-3\\\\\n",
    "-4\n",
    "\\end{pmatrix}=\n",
    "\\lambda\n",
    "\\begin{pmatrix}\n",
    "3\\\\\n",
    "-3\\\\\n",
    "-4\n",
    "\\end{pmatrix}\n",
    "$$"
   ]
  },
  {
   "cell_type": "markdown",
   "id": "4dff55cb",
   "metadata": {},
   "source": [
    "$$\\begin{cases}\n",
    "0-9+0=3\\cdot\\lambda \\\\ \n",
    "9+0+0 = -3\\cdot \\lambda \\\\\n",
    "0+0-12 = -4\\cdot \\lambda\n",
    "\\end{cases}\n",
    "\\Rightarrow\n",
    "\\begin{cases}\n",
    "\\lambda=-3\\\\ \n",
    "\\lambda=-3 \\\\\n",
    "\\lambda = 3\n",
    "\\end{cases}.$$"
   ]
  },
  {
   "cell_type": "markdown",
   "id": "cc36dfe2",
   "metadata": {},
   "source": [
    "Такая система не имеет смысла, следовательно, вектор $x=(3,-3,-4)$ не считается собственным вектором линейного оператора, заданного матрицей $A$."
   ]
  }
 ],
 "metadata": {
  "kernelspec": {
   "display_name": "Python 3 (ipykernel)",
   "language": "python",
   "name": "python3"
  },
  "language_info": {
   "codemirror_mode": {
    "name": "ipython",
    "version": 3
   },
   "file_extension": ".py",
   "mimetype": "text/x-python",
   "name": "python",
   "nbconvert_exporter": "python",
   "pygments_lexer": "ipython3",
   "version": "3.9.12"
  }
 },
 "nbformat": 4,
 "nbformat_minor": 5
}
