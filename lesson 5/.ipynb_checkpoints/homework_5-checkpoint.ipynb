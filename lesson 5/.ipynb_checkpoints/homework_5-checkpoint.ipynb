{
 "cells": [
  {
   "cell_type": "markdown",
   "id": "c79eb653",
   "metadata": {},
   "source": [
    "## Сингулярное разложение матриц"
   ]
  },
  {
   "cell_type": "markdown",
   "id": "ee7ab386",
   "metadata": {},
   "source": [
    "1. Найдите посредством NumPy SVD для матрицы:\n",
    "\n",
    "$$\\begin{pmatrix}\n",
    "1 & 2 & 0\\\\ \n",
    "0 & 0 & 5\\\\ \n",
    "3 & -4 & 2\\\\ \n",
    "1 & 6 & 5\\\\ \n",
    "0 & 1 & 0\n",
    "\\end{pmatrix}.$$"
   ]
  },
  {
   "cell_type": "markdown",
   "id": "292c593b",
   "metadata": {},
   "source": [
    "**Решение**"
   ]
  },
  {
   "cell_type": "code",
   "execution_count": 2,
   "id": "fc76c2f6",
   "metadata": {},
   "outputs": [],
   "source": [
    "import numpy as np\n",
    "np.set_printoptions(precision=2, suppress=True)"
   ]
  },
  {
   "cell_type": "code",
   "execution_count": 7,
   "id": "4180386a",
   "metadata": {},
   "outputs": [
    {
     "name": "stdout",
     "output_type": "stream",
     "text": [
      "Матрица A: \n",
      "[[ 1  2  0]\n",
      " [ 0  0  5]\n",
      " [ 3 -4  2]\n",
      " [ 1  6  5]\n",
      " [ 0  1  0]]\n"
     ]
    }
   ],
   "source": [
    "a = np.array([[1, 2, 0], [0, 0, 5], [3, -4, 2], [1, 6, 5], [0, 1, 0]])\n",
    "print(f'Матрица A: \\n{a}')"
   ]
  },
  {
   "cell_type": "code",
   "execution_count": 4,
   "id": "fb0e95d1",
   "metadata": {},
   "outputs": [],
   "source": [
    "u, s, w = np.linalg.svd(a)"
   ]
  },
  {
   "cell_type": "code",
   "execution_count": 5,
   "id": "800b074f",
   "metadata": {},
   "outputs": [],
   "source": [
    "d = np.zeros_like(a, dtype=float)\n",
    "d[np.diag_indices(min(a.shape))] = s"
   ]
  },
  {
   "cell_type": "code",
   "execution_count": 8,
   "id": "b645f8e1",
   "metadata": {},
   "outputs": [
    {
     "name": "stdout",
     "output_type": "stream",
     "text": [
      "Матрица D: \n",
      "[[8.82 0.   0.  ]\n",
      " [0.   6.14 0.  ]\n",
      " [0.   0.   2.53]\n",
      " [0.   0.   0.  ]\n",
      " [0.   0.   0.  ]]\n"
     ]
    }
   ],
   "source": [
    "print(f'Матрица D: \\n{d}')"
   ]
  },
  {
   "cell_type": "code",
   "execution_count": 9,
   "id": "2a546592",
   "metadata": {},
   "outputs": [
    {
     "name": "stdout",
     "output_type": "stream",
     "text": [
      "Матрица U: \n",
      "[[ 0.17  0.16 -0.53 -0.8  -0.16]\n",
      " [ 0.39 -0.53  0.61 -0.43  0.03]\n",
      " [-0.14 -0.82 -0.52  0.14  0.07]\n",
      " [ 0.89  0.06 -0.25  0.38 -0.06]\n",
      " [ 0.08  0.11 -0.08 -0.11  0.98]]\n"
     ]
    }
   ],
   "source": [
    "print(f'Матрица U: \\n{u}')"
   ]
  },
  {
   "cell_type": "code",
   "execution_count": 10,
   "id": "ad23ca79",
   "metadata": {},
   "outputs": [
    {
     "name": "stdout",
     "output_type": "stream",
     "text": [
      "Матрица V: \n",
      "[[ 0.07 -0.37 -0.93]\n",
      " [ 0.72  0.67 -0.21]\n",
      " [ 0.69 -0.65  0.31]]\n"
     ]
    }
   ],
   "source": [
    "print(f'Матрица V: \\n{w.T}')"
   ]
  },
  {
   "cell_type": "markdown",
   "id": "bc9ffa1d",
   "metadata": {},
   "source": [
    "Сделаем проверку:"
   ]
  },
  {
   "cell_type": "code",
   "execution_count": 13,
   "id": "6e3ea2d3",
   "metadata": {},
   "outputs": [
    {
     "name": "stdout",
     "output_type": "stream",
     "text": [
      "[[ 1.  2. -0.]\n",
      " [-0.  0.  5.]\n",
      " [ 3. -4.  2.]\n",
      " [ 1.  6.  5.]\n",
      " [ 0.  1.  0.]]\n"
     ]
    }
   ],
   "source": [
    "print(np.dot(np.dot(u, d), w))"
   ]
  },
  {
   "cell_type": "markdown",
   "id": "288f58f0",
   "metadata": {},
   "source": [
    "2. Для матрицы из предыдущего задания найдите:\n",
    "\n",
    "    а) евклидову норму;\n",
    "    \n",
    "    б) норму Фробениуса."
   ]
  },
  {
   "cell_type": "markdown",
   "id": "f7bc742c",
   "metadata": {},
   "source": [
    "**Решение**"
   ]
  },
  {
   "cell_type": "markdown",
   "id": "4724d885",
   "metadata": {},
   "source": [
    "а) Евклидова норма матрицы равна евклидовой норме диагональной матрицы из ее сингулярных чисел. Максимальное значение полученного отношения будет равно максимальному сингулярному числу $\\mu_{max}$:"
   ]
  },
  {
   "cell_type": "markdown",
   "id": "ce5bf180",
   "metadata": {},
   "source": [
    "$$\\left \\| A \\right \\|_{E}=8.82$$."
   ]
  },
  {
   "cell_type": "markdown",
   "id": "2d0e7b5c",
   "metadata": {},
   "source": [
    "Проверим с помощью numpy:"
   ]
  },
  {
   "cell_type": "code",
   "execution_count": 14,
   "id": "8b08a0d1",
   "metadata": {},
   "outputs": [
    {
     "name": "stdout",
     "output_type": "stream",
     "text": [
      "Евклидова норма: 8.824868854820442\n"
     ]
    }
   ],
   "source": [
    "print(f'Евклидова норма: {np.linalg.norm(a, ord=2)}')"
   ]
  },
  {
   "cell_type": "markdown",
   "id": "0edd7aa6",
   "metadata": {},
   "source": [
    "б) Напишем функцию для нахождения нормы Фробениуса:"
   ]
  },
  {
   "cell_type": "code",
   "execution_count": 17,
   "id": "d096d0b6",
   "metadata": {},
   "outputs": [
    {
     "name": "stdout",
     "output_type": "stream",
     "text": [
      "Норма фробениуса для матрицы A:\n",
      "11.045361017187261\n"
     ]
    }
   ],
   "source": [
    "def frobenius_func(matrix):\n",
    "    sum_square = 0\n",
    "    for i in range(len(matrix)):\n",
    "        for j in range(len(matrix[0])):\n",
    "            sum_square += matrix[i][j] ** 2\n",
    "    return np.sqrt(sum_square)\n",
    "\n",
    "print(f'Норма фробениуса для матрицы A:\\n{frobenius_func(a)}')"
   ]
  },
  {
   "cell_type": "markdown",
   "id": "22470ae4",
   "metadata": {},
   "source": [
    "Проверим с помощью numpy:"
   ]
  },
  {
   "cell_type": "code",
   "execution_count": 19,
   "id": "62a1049b",
   "metadata": {},
   "outputs": [
    {
     "name": "stdout",
     "output_type": "stream",
     "text": [
      "Норма Фробениуса: \n",
      "11.045361017187261\n"
     ]
    }
   ],
   "source": [
    "print(f\"Норма Фробениуса: \\n{np.linalg.norm(a, ord='fro')}\")"
   ]
  }
 ],
 "metadata": {
  "kernelspec": {
   "display_name": "Python 3 (ipykernel)",
   "language": "python",
   "name": "python3"
  },
  "language_info": {
   "codemirror_mode": {
    "name": "ipython",
    "version": 3
   },
   "file_extension": ".py",
   "mimetype": "text/x-python",
   "name": "python",
   "nbconvert_exporter": "python",
   "pygments_lexer": "ipython3",
   "version": "3.9.12"
  }
 },
 "nbformat": 4,
 "nbformat_minor": 5
}
